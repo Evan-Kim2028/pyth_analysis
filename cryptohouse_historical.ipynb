{
 "cells": [
  {
   "cell_type": "code",
   "execution_count": 1,
   "metadata": {},
   "outputs": [
    {
     "data": {
      "text/plain": [
       "polars.config.Config"
      ]
     },
     "execution_count": 1,
     "metadata": {},
     "output_type": "execute_result"
    }
   ],
   "source": [
    "import clickhouse_connect\n",
    "import pandas as pd\n",
    "import polars as pl\n",
    "\n",
    "pl.Config.set_fmt_str_lengths(200)\n",
    "pl.Config.set_fmt_float(\"full\")"
   ]
  },
  {
   "cell_type": "markdown",
   "metadata": {},
   "source": [
    "### Direct connect to Cryptohouse\n",
    "Connect to cryptohouse with client to do some initial querying and result aggregation.\n",
    "\n",
    "\n",
    "### Limitations\n",
    "- Can only do 1000 blocks, the direct access limits are still being figured out.\n"
   ]
  },
  {
   "cell_type": "code",
   "execution_count": 2,
   "metadata": {},
   "outputs": [],
   "source": [
    "# Create a connection to the ClickHouse server\n",
    "client = clickhouse_connect.get_client(\n",
    "    host='crypto-clickhouse.clickhouse.com',\n",
    "    username='crypto',\n",
    "    password='',\n",
    "    secure=True\n",
    ")"
   ]
  },
  {
   "cell_type": "code",
   "execution_count": 3,
   "metadata": {},
   "outputs": [],
   "source": [
    "# Execute the query and return as a pandas dataframe\n",
    "query: str = \"\"\"\n",
    "SELECT\n",
    "  *\n",
    "FROM\n",
    "  solana.transactions ARRAY\n",
    "  JOIN accounts AS account\n",
    "WHERE\n",
    "  arrayExists(\n",
    "    x -> x.1 IN [ \n",
    "        'Fc8bpeCMifWYv97pQ3k5xDvd98nuVg6yAaZrwmy4RRp6', -- zeta dex address\n",
    "        'pythWSnswVUd12oZpeFP8e9CVaEqJg25g1Vtc2biRsT' -- pyth price feed\n",
    "    ],\n",
    "    accounts\n",
    "  )\n",
    " // The block_slot range 282,300,000 to 282,900,000 is about 3 days and is a known range where probems were being experienced\n",
    "#  AND block_slot > 282899000\n",
    "#  AND block_slot < 282900000\n",
    "  AND block_timestamp >= now() - INTERVAL 5 MINUTE\n",
    "  AND account.2 = true -- Filter for signer accounts only\n",
    "\"\"\""
   ]
  },
  {
   "cell_type": "code",
   "execution_count": 4,
   "metadata": {},
   "outputs": [],
   "source": [
    "results: pd.DataFrame = client.query_df(query)"
   ]
  },
  {
   "cell_type": "code",
   "execution_count": 5,
   "metadata": {},
   "outputs": [],
   "source": [
    "df = pl.from_pandas(results)"
   ]
  },
  {
   "cell_type": "code",
   "execution_count": 6,
   "metadata": {},
   "outputs": [
    {
     "data": {
      "text/html": [
       "<div><style>\n",
       ".dataframe > thead > tr,\n",
       ".dataframe > tbody > tr {\n",
       "  text-align: right;\n",
       "  white-space: pre-wrap;\n",
       "}\n",
       "</style>\n",
       "<small>shape: (700, 3)</small><table border=\"1\" class=\"dataframe\"><thead><tr><th>status</th><th>log_messages</th><th>count</th></tr><tr><td>str</td><td>list[str]</td><td>u32</td></tr></thead><tbody><tr><td>&quot;0&quot;</td><td>[&quot;Program ComputeBudget111111111111111111111111111111 invoke [1]&quot;, &quot;Program ComputeBudget111111111111111111111111111111 success&quot;, … &quot;Program ZETAxsqBRek56DhiGXrn75yj2NHU3aYUnxvHXpkf3aD failed: custom program error: 0x1819&quot;]</td><td>816</td></tr><tr><td>&quot;1&quot;</td><td>[&quot;Program 11111111111111111111111111111111 invoke [1]&quot;, &quot;Program 11111111111111111111111111111111 success&quot;, … &quot;Program 11111111111111111111111111111111 success&quot;]</td><td>58</td></tr><tr><td>&quot;1&quot;</td><td>[&quot;Program HDwcJBJXjL9FpJ7UBsYBtaDjsBUhuLCUYoz3zr8SWWaQ invoke [1]&quot;, &quot;Program log: Instruction: WriteEncodedVaa&quot;, … &quot;Program ComputeBudget111111111111111111111111111111 success&quot;]</td><td>11</td></tr><tr><td>&quot;0&quot;</td><td>[&quot;Program HDwcJBJXjL9FpJ7UBsYBtaDjsBUhuLCUYoz3zr8SWWaQ invoke [1]&quot;, &quot;Program log: Instruction: WriteEncodedVaa&quot;, … &quot;Program HDwcJBJXjL9FpJ7UBsYBtaDjsBUhuLCUYoz3zr8SWWaQ failed: custom program error: 0xbbb&quot;]</td><td>10</td></tr><tr><td>&quot;1&quot;</td><td>[&quot;Program HDwcJBJXjL9FpJ7UBsYBtaDjsBUhuLCUYoz3zr8SWWaQ invoke [1]&quot;, &quot;Program log: Instruction: WriteEncodedVaa&quot;, … &quot;Program ComputeBudget111111111111111111111111111111 success&quot;]</td><td>8</td></tr><tr><td>&hellip;</td><td>&hellip;</td><td>&hellip;</td></tr><tr><td>&quot;1&quot;</td><td>[&quot;Program ComputeBudget111111111111111111111111111111 invoke [1]&quot;, &quot;Program ComputeBudget111111111111111111111111111111 success&quot;, … &quot;Program pythWSnswVUd12oZpeFP8e9CVaEqJg25g1Vtc2biRsT success&quot;]</td><td>1</td></tr><tr><td>&quot;1&quot;</td><td>[&quot;Program ComputeBudget111111111111111111111111111111 invoke [1]&quot;, &quot;Program ComputeBudget111111111111111111111111111111 success&quot;, … &quot;Program ZETAxsqBRek56DhiGXrn75yj2NHU3aYUnxvHXpkf3aD success&quot;]</td><td>1</td></tr><tr><td>&quot;1&quot;</td><td>[&quot;Program ZETAxsqBRek56DhiGXrn75yj2NHU3aYUnxvHXpkf3aD invoke [1]&quot;, &quot;Program log: Instruction: UpdatePricingV2&quot;, … &quot;Program ZETAxsqBRek56DhiGXrn75yj2NHU3aYUnxvHXpkf3aD success&quot;]</td><td>1</td></tr><tr><td>&quot;1&quot;</td><td>[&quot;Program ComputeBudget111111111111111111111111111111 invoke [1]&quot;, &quot;Program ComputeBudget111111111111111111111111111111 success&quot;, … &quot;Program ZETAxsqBRek56DhiGXrn75yj2NHU3aYUnxvHXpkf3aD success&quot;]</td><td>1</td></tr><tr><td>&quot;1&quot;</td><td>[&quot;Program pythWSnswVUd12oZpeFP8e9CVaEqJg25g1Vtc2biRsT invoke [1]&quot;, &quot;Program log: Instruction: UpdatePriceFeed&quot;, … &quot;Program ComputeBudget111111111111111111111111111111 success&quot;]</td><td>1</td></tr></tbody></table></div>"
      ],
      "text/plain": [
       "shape: (700, 3)\n",
       "┌────────┬─────────────────────────────────────────────────────────────────────────────────┬───────┐\n",
       "│ status ┆ log_messages                                                                    ┆ count │\n",
       "│ ---    ┆ ---                                                                             ┆ ---   │\n",
       "│ str    ┆ list[str]                                                                       ┆ u32   │\n",
       "╞════════╪═════════════════════════════════════════════════════════════════════════════════╪═══════╡\n",
       "│ 0      ┆ [\"Program ComputeBudget111111111111111111111111111111 invoke [1]\", \"Program     ┆ 816   │\n",
       "│        ┆ ComputeBudget111111111111111111111111111111 success\", … \"Program                ┆       │\n",
       "│        ┆ ZETAxsqBRek56DhiGXrn75yj2NHU3aYUnxvHXpkf3aD failed: custom …                    ┆       │\n",
       "│ 1      ┆ [\"Program 11111111111111111111111111111111 invoke [1]\", \"Program                ┆ 58    │\n",
       "│        ┆ 11111111111111111111111111111111 success\", … \"Program                           ┆       │\n",
       "│        ┆ 11111111111111111111111111111111 success\"]                                      ┆       │\n",
       "│ 1      ┆ [\"Program HDwcJBJXjL9FpJ7UBsYBtaDjsBUhuLCUYoz3zr8SWWaQ invoke [1]\", \"Program    ┆ 11    │\n",
       "│        ┆ log: Instruction: WriteEncodedVaa\", … \"Program                                  ┆       │\n",
       "│        ┆ ComputeBudget111111111111111111111111111111 success\"]                           ┆       │\n",
       "│ 0      ┆ [\"Program HDwcJBJXjL9FpJ7UBsYBtaDjsBUhuLCUYoz3zr8SWWaQ invoke [1]\", \"Program    ┆ 10    │\n",
       "│        ┆ log: Instruction: WriteEncodedVaa\", … \"Program                                  ┆       │\n",
       "│        ┆ HDwcJBJXjL9FpJ7UBsYBtaDjsBUhuLCUYoz3zr8SWWaQ failed: custom program error: 0…   ┆       │\n",
       "│ 1      ┆ [\"Program HDwcJBJXjL9FpJ7UBsYBtaDjsBUhuLCUYoz3zr8SWWaQ invoke [1]\", \"Program    ┆ 8     │\n",
       "│        ┆ log: Instruction: WriteEncodedVaa\", … \"Program                                  ┆       │\n",
       "│        ┆ ComputeBudget111111111111111111111111111111 success\"]                           ┆       │\n",
       "│ …      ┆ …                                                                               ┆ …     │\n",
       "│ 1      ┆ [\"Program ComputeBudget111111111111111111111111111111 invoke [1]\", \"Program     ┆ 1     │\n",
       "│        ┆ ComputeBudget111111111111111111111111111111 success\", … \"Program                ┆       │\n",
       "│        ┆ pythWSnswVUd12oZpeFP8e9CVaEqJg25g1Vtc2biRsT success\"]                           ┆       │\n",
       "│ 1      ┆ [\"Program ComputeBudget111111111111111111111111111111 invoke [1]\", \"Program     ┆ 1     │\n",
       "│        ┆ ComputeBudget111111111111111111111111111111 success\", … \"Program                ┆       │\n",
       "│        ┆ ZETAxsqBRek56DhiGXrn75yj2NHU3aYUnxvHXpkf3aD success\"]                           ┆       │\n",
       "│ 1      ┆ [\"Program ZETAxsqBRek56DhiGXrn75yj2NHU3aYUnxvHXpkf3aD invoke [1]\", \"Program     ┆ 1     │\n",
       "│        ┆ log: Instruction: UpdatePricingV2\", … \"Program                                  ┆       │\n",
       "│        ┆ ZETAxsqBRek56DhiGXrn75yj2NHU3aYUnxvHXpkf3aD success\"]                           ┆       │\n",
       "│ 1      ┆ [\"Program ComputeBudget111111111111111111111111111111 invoke [1]\", \"Program     ┆ 1     │\n",
       "│        ┆ ComputeBudget111111111111111111111111111111 success\", … \"Program                ┆       │\n",
       "│        ┆ ZETAxsqBRek56DhiGXrn75yj2NHU3aYUnxvHXpkf3aD success\"]                           ┆       │\n",
       "│ 1      ┆ [\"Program pythWSnswVUd12oZpeFP8e9CVaEqJg25g1Vtc2biRsT invoke [1]\", \"Program     ┆ 1     │\n",
       "│        ┆ log: Instruction: UpdatePriceFeed\", … \"Program                                  ┆       │\n",
       "│        ┆ ComputeBudget111111111111111111111111111111 success\"]                           ┆       │\n",
       "└────────┴─────────────────────────────────────────────────────────────────────────────────┴───────┘"
      ]
     },
     "execution_count": 6,
     "metadata": {},
     "output_type": "execute_result"
    }
   ],
   "source": [
    "df.group_by('status', 'log_messages').agg(\n",
    "    pl.len().alias('count')).sort(by='count', descending=True)"
   ]
  },
  {
   "cell_type": "code",
   "execution_count": 7,
   "metadata": {},
   "outputs": [
    {
     "data": {
      "text/html": [
       "<div><style>\n",
       ".dataframe > thead > tr,\n",
       ".dataframe > tbody > tr {\n",
       "  text-align: right;\n",
       "  white-space: pre-wrap;\n",
       "}\n",
       "</style>\n",
       "<small>shape: (10, 3)</small><table border=\"1\" class=\"dataframe\"><thead><tr><th>block_slot</th><th>status</th><th>count</th></tr><tr><td>i64</td><td>str</td><td>u32</td></tr></thead><tbody><tr><td>284194723</td><td>&quot;0&quot;</td><td>111</td></tr><tr><td>284194840</td><td>&quot;0&quot;</td><td>63</td></tr><tr><td>284194878</td><td>&quot;0&quot;</td><td>55</td></tr><tr><td>284195190</td><td>&quot;0&quot;</td><td>51</td></tr><tr><td>284194727</td><td>&quot;0&quot;</td><td>51</td></tr><tr><td>284195182</td><td>&quot;0&quot;</td><td>43</td></tr><tr><td>284194774</td><td>&quot;0&quot;</td><td>40</td></tr><tr><td>284195049</td><td>&quot;0&quot;</td><td>39</td></tr><tr><td>284195089</td><td>&quot;0&quot;</td><td>32</td></tr><tr><td>284195094</td><td>&quot;0&quot;</td><td>28</td></tr></tbody></table></div>"
      ],
      "text/plain": [
       "shape: (10, 3)\n",
       "┌────────────┬────────┬───────┐\n",
       "│ block_slot ┆ status ┆ count │\n",
       "│ ---        ┆ ---    ┆ ---   │\n",
       "│ i64        ┆ str    ┆ u32   │\n",
       "╞════════════╪════════╪═══════╡\n",
       "│ 284194723  ┆ 0      ┆ 111   │\n",
       "│ 284194840  ┆ 0      ┆ 63    │\n",
       "│ 284194878  ┆ 0      ┆ 55    │\n",
       "│ 284195190  ┆ 0      ┆ 51    │\n",
       "│ 284194727  ┆ 0      ┆ 51    │\n",
       "│ 284195182  ┆ 0      ┆ 43    │\n",
       "│ 284194774  ┆ 0      ┆ 40    │\n",
       "│ 284195049  ┆ 0      ┆ 39    │\n",
       "│ 284195089  ┆ 0      ┆ 32    │\n",
       "│ 284195094  ┆ 0      ┆ 28    │\n",
       "└────────────┴────────┴───────┘"
      ]
     },
     "execution_count": 7,
     "metadata": {},
     "output_type": "execute_result"
    }
   ],
   "source": [
    "# blocks with highest error rates\n",
    "df.group_by('block_slot', 'status').agg(pl.len().alias('count')).sort(\n",
    "    by='count', descending=True).filter(pl.col('status') == \"0\").head(10)"
   ]
  },
  {
   "cell_type": "code",
   "execution_count": 8,
   "metadata": {},
   "outputs": [
    {
     "data": {
      "text/html": [
       "<div><style>\n",
       ".dataframe > thead > tr,\n",
       ".dataframe > tbody > tr {\n",
       "  text-align: right;\n",
       "  white-space: pre-wrap;\n",
       "}\n",
       "</style>\n",
       "<small>shape: (10, 3)</small><table border=\"1\" class=\"dataframe\"><thead><tr><th>block_slot</th><th>status</th><th>count</th></tr><tr><td>i64</td><td>str</td><td>u32</td></tr></thead><tbody><tr><td>284194723</td><td>&quot;1&quot;</td><td>31</td></tr><tr><td>284194771</td><td>&quot;1&quot;</td><td>23</td></tr><tr><td>284195190</td><td>&quot;1&quot;</td><td>20</td></tr><tr><td>284195089</td><td>&quot;1&quot;</td><td>19</td></tr><tr><td>284195137</td><td>&quot;1&quot;</td><td>19</td></tr><tr><td>284195106</td><td>&quot;1&quot;</td><td>18</td></tr><tr><td>284194877</td><td>&quot;1&quot;</td><td>18</td></tr><tr><td>284194798</td><td>&quot;1&quot;</td><td>17</td></tr><tr><td>284194681</td><td>&quot;1&quot;</td><td>17</td></tr><tr><td>284195006</td><td>&quot;1&quot;</td><td>16</td></tr></tbody></table></div>"
      ],
      "text/plain": [
       "shape: (10, 3)\n",
       "┌────────────┬────────┬───────┐\n",
       "│ block_slot ┆ status ┆ count │\n",
       "│ ---        ┆ ---    ┆ ---   │\n",
       "│ i64        ┆ str    ┆ u32   │\n",
       "╞════════════╪════════╪═══════╡\n",
       "│ 284194723  ┆ 1      ┆ 31    │\n",
       "│ 284194771  ┆ 1      ┆ 23    │\n",
       "│ 284195190  ┆ 1      ┆ 20    │\n",
       "│ 284195089  ┆ 1      ┆ 19    │\n",
       "│ 284195137  ┆ 1      ┆ 19    │\n",
       "│ 284195106  ┆ 1      ┆ 18    │\n",
       "│ 284194877  ┆ 1      ┆ 18    │\n",
       "│ 284194798  ┆ 1      ┆ 17    │\n",
       "│ 284194681  ┆ 1      ┆ 17    │\n",
       "│ 284195006  ┆ 1      ┆ 16    │\n",
       "└────────────┴────────┴───────┘"
      ]
     },
     "execution_count": 8,
     "metadata": {},
     "output_type": "execute_result"
    }
   ],
   "source": [
    "df.group_by('block_slot', 'status').agg(pl.len().alias('count')).sort(\n",
    "    by='count', descending=True).filter(pl.col('status') == \"1\").head(10)"
   ]
  },
  {
   "cell_type": "markdown",
   "metadata": {},
   "source": [
    "### What do failed messages look like?"
   ]
  },
  {
   "cell_type": "code",
   "execution_count": 15,
   "metadata": {},
   "outputs": [
    {
     "data": {
      "text/html": [
       "<div><style>\n",
       ".dataframe > thead > tr,\n",
       ".dataframe > tbody > tr {\n",
       "  text-align: right;\n",
       "  white-space: pre-wrap;\n",
       "}\n",
       "</style>\n",
       "<small>shape: (2, 3)</small><table border=\"1\" class=\"dataframe\"><thead><tr><th>block_slot</th><th>status</th><th>count</th></tr><tr><td>i64</td><td>str</td><td>u32</td></tr></thead><tbody><tr><td>284194723</td><td>&quot;0&quot;</td><td>111</td></tr><tr><td>284194723</td><td>&quot;1&quot;</td><td>31</td></tr></tbody></table></div>"
      ],
      "text/plain": [
       "shape: (2, 3)\n",
       "┌────────────┬────────┬───────┐\n",
       "│ block_slot ┆ status ┆ count │\n",
       "│ ---        ┆ ---    ┆ ---   │\n",
       "│ i64        ┆ str    ┆ u32   │\n",
       "╞════════════╪════════╪═══════╡\n",
       "│ 284194723  ┆ 0      ┆ 111   │\n",
       "│ 284194723  ┆ 1      ┆ 31    │\n",
       "└────────────┴────────┴───────┘"
      ]
     },
     "execution_count": 15,
     "metadata": {},
     "output_type": "execute_result"
    }
   ],
   "source": [
    "high_fail_block = df.filter(pl.col('block_slot') == 284194723).group_by(\n",
    "    'block_slot', 'status').agg(pl.len().alias('count')).sort(by='count', descending=True)\n",
    "high_fail_block"
   ]
  },
  {
   "cell_type": "code",
   "execution_count": 19,
   "metadata": {},
   "outputs": [],
   "source": [
    "fail_df = df.filter(pl.col('block_slot') == 284194723)"
   ]
  },
  {
   "cell_type": "code",
   "execution_count": 20,
   "metadata": {},
   "outputs": [
    {
     "data": {
      "text/html": [
       "<div><style>\n",
       ".dataframe > thead > tr,\n",
       ".dataframe > tbody > tr {\n",
       "  text-align: right;\n",
       "  white-space: pre-wrap;\n",
       "}\n",
       "</style>\n",
       "<small>shape: (1, 2)</small><table border=\"1\" class=\"dataframe\"><thead><tr><th>log_messages</th><th>count</th></tr><tr><td>list[str]</td><td>u32</td></tr></thead><tbody><tr><td>[&quot;Program ComputeBudget111111111111111111111111111111 invoke [1]&quot;, &quot;Program ComputeBudget111111111111111111111111111111 success&quot;, … &quot;Program ZETAxsqBRek56DhiGXrn75yj2NHU3aYUnxvHXpkf3aD failed: custom program error: 0x1819&quot;]</td><td>111</td></tr></tbody></table></div>"
      ],
      "text/plain": [
       "shape: (1, 2)\n",
       "┌─────────────────────────────────────────────────────────────────────────────┬───────┐\n",
       "│ log_messages                                                                ┆ count │\n",
       "│ ---                                                                         ┆ ---   │\n",
       "│ list[str]                                                                   ┆ u32   │\n",
       "╞═════════════════════════════════════════════════════════════════════════════╪═══════╡\n",
       "│ [\"Program ComputeBudget111111111111111111111111111111 invoke [1]\", \"Program ┆ 111   │\n",
       "│ ComputeBudget111111111111111111111111111111 success\", … \"Program            ┆       │\n",
       "│ ZETAxsqBRek56DhiGXrn75yj2NHU3aYUnxvHXpkf3aD failed: custom …                ┆       │\n",
       "└─────────────────────────────────────────────────────────────────────────────┴───────┘"
      ]
     },
     "execution_count": 20,
     "metadata": {},
     "output_type": "execute_result"
    }
   ],
   "source": [
    "fail_df.filter(pl.col('status') == \"0\").group_by('log_messages').agg(\n",
    "    pl.len().alias('count')).sort(by='count', descending=True)"
   ]
  },
  {
   "cell_type": "code",
   "execution_count": 21,
   "metadata": {},
   "outputs": [
    {
     "name": "stdout",
     "output_type": "stream",
     "text": [
      "{'log_messages': ['Program ComputeBudget111111111111111111111111111111 invoke [1]', 'Program ComputeBudget111111111111111111111111111111 success', 'Program ZETAxsqBRek56DhiGXrn75yj2NHU3aYUnxvHXpkf3aD invoke [1]', 'Program log: Instruction: UpdatePricingV3', 'Program log: AnchorError thrown in programs/zeta/src/lib.rs:1206. Error Code: InvalidOracleUpdate. Error Number: 6169. Error Message: Invalid oracle update.', 'Program ZETAxsqBRek56DhiGXrn75yj2NHU3aYUnxvHXpkf3aD consumed 8687 of 199850 compute units', 'Program ZETAxsqBRek56DhiGXrn75yj2NHU3aYUnxvHXpkf3aD failed: custom program error: 0x1819'], 'count': 111}\n"
     ]
    }
   ],
   "source": [
    "for i in range(len(fail_df.filter(pl.col('status') == \"0\").group_by('log_messages').agg(pl.len().alias('count')).sort(by='count', descending=True).to_dicts())):\n",
    "    print(fail_df.filter(pl.col('status') == \"0\").group_by('log_messages').agg(\n",
    "        pl.len().alias('count')).sort(by='count', descending=True).to_dicts()[i])"
   ]
  },
  {
   "cell_type": "code",
   "execution_count": 32,
   "metadata": {},
   "outputs": [],
   "source": [
    "# Filter the DataFrame where any log_message contains 'vaa'.\n",
    "filtered_df = fail_df.with_columns(\n",
    "    default_match=pl.col(\"log_messages\").list.eval(\n",
    "        pl.element().str.contains(\"Error\", literal=True, strict=True))\n",
    ")"
   ]
  },
  {
   "cell_type": "code",
   "execution_count": 33,
   "metadata": {},
   "outputs": [],
   "source": [
    "explode_filter = filtered_df.select('index', 'status', 'log_messages', 'default_match').explode(\n",
    "    'log_messages', 'default_match').filter(pl.col('default_match') == True)"
   ]
  },
  {
   "cell_type": "code",
   "execution_count": 23,
   "metadata": {},
   "outputs": [
    {
     "data": {
      "text/html": [
       "<div><style>\n",
       ".dataframe > thead > tr,\n",
       ".dataframe > tbody > tr {\n",
       "  text-align: right;\n",
       "  white-space: pre-wrap;\n",
       "}\n",
       "</style>\n",
       "<small>shape: (0, 3)</small><table border=\"1\" class=\"dataframe\"><thead><tr><th>log_messages</th><th>default_match</th><th>count</th></tr><tr><td>str</td><td>bool</td><td>u32</td></tr></thead><tbody></tbody></table></div>"
      ],
      "text/plain": [
       "shape: (0, 3)\n",
       "┌──────────────┬───────────────┬───────┐\n",
       "│ log_messages ┆ default_match ┆ count │\n",
       "│ ---          ┆ ---           ┆ ---   │\n",
       "│ str          ┆ bool          ┆ u32   │\n",
       "╞══════════════╪═══════════════╪═══════╡\n",
       "└──────────────┴───────────────┴───────┘"
      ]
     },
     "execution_count": 23,
     "metadata": {},
     "output_type": "execute_result"
    }
   ],
   "source": [
    "# we just get a generic invalid oracle update value.\n",
    "explode_filter.group_by('log_messages', 'default_match').agg(\n",
    "    pl.len().alias('count'))"
   ]
  }
 ],
 "metadata": {
  "kernelspec": {
   "display_name": ".venv",
   "language": "python",
   "name": "python3"
  },
  "language_info": {
   "codemirror_mode": {
    "name": "ipython",
    "version": 3
   },
   "file_extension": ".py",
   "mimetype": "text/x-python",
   "name": "python",
   "nbconvert_exporter": "python",
   "pygments_lexer": "ipython3",
   "version": "3.12.2"
  }
 },
 "nbformat": 4,
 "nbformat_minor": 2
}
