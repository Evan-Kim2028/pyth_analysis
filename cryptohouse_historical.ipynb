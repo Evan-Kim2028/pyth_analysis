{
 "cells": [
  {
   "cell_type": "code",
   "execution_count": 1,
   "metadata": {},
   "outputs": [
    {
     "data": {
      "text/plain": [
       "polars.config.Config"
      ]
     },
     "execution_count": 1,
     "metadata": {},
     "output_type": "execute_result"
    }
   ],
   "source": [
    "import clickhouse_connect\n",
    "import pandas as pd\n",
    "import polars as pl\n",
    "\n",
    "pl.Config.set_fmt_str_lengths(200)\n",
    "pl.Config.set_fmt_float(\"full\")"
   ]
  },
  {
   "cell_type": "markdown",
   "metadata": {},
   "source": [
    "### Direct connect to Cryptohouse\n",
    "Connect to cryptohouse with client to do some initial querying and result aggregation.\n",
    "\n",
    "\n",
    "### Limitations\n",
    "- Can only do 1000 blocks, the direct access limits are still being figured out.\n"
   ]
  },
  {
   "cell_type": "code",
   "execution_count": 2,
   "metadata": {},
   "outputs": [],
   "source": [
    "# Create a connection to the ClickHouse server\n",
    "client = clickhouse_connect.get_client(\n",
    "    host='crypto-clickhouse.clickhouse.com',\n",
    "    username='crypto',\n",
    "    password='',\n",
    "    secure=True\n",
    ")"
   ]
  },
  {
   "cell_type": "code",
   "execution_count": 3,
   "metadata": {},
   "outputs": [],
   "source": [
    "# Execute the query and return as a pandas dataframe\n",
    "query: str = \"\"\"\n",
    "SELECT\n",
    "  *\n",
    "FROM\n",
    "  solana.transactions ARRAY\n",
    "  JOIN accounts AS account\n",
    "WHERE\n",
    "  arrayExists(\n",
    "    x -> x.1 IN [ \n",
    "        'Fc8bpeCMifWYv97pQ3k5xDvd98nuVg6yAaZrwmy4RRp6', -- zeta dex address\n",
    "        'pythWSnswVUd12oZpeFP8e9CVaEqJg25g1Vtc2biRsT' -- pyth price feed\n",
    "    ],\n",
    "    accounts\n",
    "  )\n",
    " // The block_slot range 282,300,000 to 282,900,000 is about 3 days and is a known range where probems were being experienced\n",
    "#  AND block_slot > 282899000\n",
    "#  AND block_slot < 282900000\n",
    "  AND block_timestamp >= now() - INTERVAL 5 MINUTE\n",
    "  AND account.2 = true -- Filter for signer accounts only\n",
    "\"\"\""
   ]
  },
  {
   "cell_type": "code",
   "execution_count": 4,
   "metadata": {},
   "outputs": [],
   "source": [
    "results: pd.DataFrame = client.query_df(query)"
   ]
  },
  {
   "cell_type": "code",
   "execution_count": 5,
   "metadata": {},
   "outputs": [],
   "source": [
    "df = pl.from_pandas(results)"
   ]
  },
  {
   "cell_type": "code",
   "execution_count": 6,
   "metadata": {},
   "outputs": [
    {
     "data": {
      "text/html": [
       "<div><style>\n",
       ".dataframe > thead > tr,\n",
       ".dataframe > tbody > tr {\n",
       "  text-align: right;\n",
       "  white-space: pre-wrap;\n",
       "}\n",
       "</style>\n",
       "<small>shape: (676, 3)</small><table border=\"1\" class=\"dataframe\"><thead><tr><th>status</th><th>log_messages</th><th>count</th></tr><tr><td>str</td><td>list[str]</td><td>u32</td></tr></thead><tbody><tr><td>&quot;0&quot;</td><td>[&quot;Program ComputeBudget111111111111111111111111111111 invoke [1]&quot;, &quot;Program ComputeBudget111111111111111111111111111111 success&quot;, … &quot;Program ZETAxsqBRek56DhiGXrn75yj2NHU3aYUnxvHXpkf3aD failed: custom program error: 0x1819&quot;]</td><td>402</td></tr><tr><td>&quot;1&quot;</td><td>[&quot;Program 11111111111111111111111111111111 invoke [1]&quot;, &quot;Program 11111111111111111111111111111111 success&quot;, … &quot;Program 11111111111111111111111111111111 success&quot;]</td><td>56</td></tr><tr><td>&quot;0&quot;</td><td>[&quot;Program HDwcJBJXjL9FpJ7UBsYBtaDjsBUhuLCUYoz3zr8SWWaQ invoke [1]&quot;, &quot;Program log: Instruction: WriteEncodedVaa&quot;, … &quot;Program HDwcJBJXjL9FpJ7UBsYBtaDjsBUhuLCUYoz3zr8SWWaQ failed: custom program error: 0xbbb&quot;]</td><td>13</td></tr><tr><td>&quot;1&quot;</td><td>[&quot;Program HDwcJBJXjL9FpJ7UBsYBtaDjsBUhuLCUYoz3zr8SWWaQ invoke [1]&quot;, &quot;Program log: Instruction: WriteEncodedVaa&quot;, … &quot;Program ComputeBudget111111111111111111111111111111 success&quot;]</td><td>8</td></tr><tr><td>&quot;1&quot;</td><td>[&quot;Program pythWSnswVUd12oZpeFP8e9CVaEqJg25g1Vtc2biRsT invoke [1]&quot;, &quot;Program log: Instruction: UpdatePriceFeed&quot;, … &quot;Program ComputeBudget111111111111111111111111111111 success&quot;]</td><td>8</td></tr><tr><td>&hellip;</td><td>&hellip;</td><td>&hellip;</td></tr><tr><td>&quot;1&quot;</td><td>[&quot;Program ComputeBudget111111111111111111111111111111 invoke [1]&quot;, &quot;Program ComputeBudget111111111111111111111111111111 success&quot;, … &quot;Program ZETAxsqBRek56DhiGXrn75yj2NHU3aYUnxvHXpkf3aD success&quot;]</td><td>1</td></tr><tr><td>&quot;1&quot;</td><td>[&quot;Program ComputeBudget111111111111111111111111111111 invoke [1]&quot;, &quot;Program ComputeBudget111111111111111111111111111111 success&quot;, … &quot;Program ZETAxsqBRek56DhiGXrn75yj2NHU3aYUnxvHXpkf3aD success&quot;]</td><td>1</td></tr><tr><td>&quot;1&quot;</td><td>[&quot;Program ComputeBudget111111111111111111111111111111 invoke [1]&quot;, &quot;Program ComputeBudget111111111111111111111111111111 success&quot;, … &quot;Program ZETAxsqBRek56DhiGXrn75yj2NHU3aYUnxvHXpkf3aD success&quot;]</td><td>1</td></tr><tr><td>&quot;1&quot;</td><td>[&quot;Program ComputeBudget111111111111111111111111111111 invoke [1]&quot;, &quot;Program ComputeBudget111111111111111111111111111111 success&quot;, … &quot;Program ZETAxsqBRek56DhiGXrn75yj2NHU3aYUnxvHXpkf3aD success&quot;]</td><td>1</td></tr><tr><td>&quot;1&quot;</td><td>[&quot;Program ComputeBudget111111111111111111111111111111 invoke [1]&quot;, &quot;Program ComputeBudget111111111111111111111111111111 success&quot;, … &quot;Program ZETAxsqBRek56DhiGXrn75yj2NHU3aYUnxvHXpkf3aD success&quot;]</td><td>1</td></tr></tbody></table></div>"
      ],
      "text/plain": [
       "shape: (676, 3)\n",
       "┌────────┬─────────────────────────────────────────────────────────────────────────────────┬───────┐\n",
       "│ status ┆ log_messages                                                                    ┆ count │\n",
       "│ ---    ┆ ---                                                                             ┆ ---   │\n",
       "│ str    ┆ list[str]                                                                       ┆ u32   │\n",
       "╞════════╪═════════════════════════════════════════════════════════════════════════════════╪═══════╡\n",
       "│ 0      ┆ [\"Program ComputeBudget111111111111111111111111111111 invoke [1]\", \"Program     ┆ 402   │\n",
       "│        ┆ ComputeBudget111111111111111111111111111111 success\", … \"Program                ┆       │\n",
       "│        ┆ ZETAxsqBRek56DhiGXrn75yj2NHU3aYUnxvHXpkf3aD failed: custom …                    ┆       │\n",
       "│ 1      ┆ [\"Program 11111111111111111111111111111111 invoke [1]\", \"Program                ┆ 56    │\n",
       "│        ┆ 11111111111111111111111111111111 success\", … \"Program                           ┆       │\n",
       "│        ┆ 11111111111111111111111111111111 success\"]                                      ┆       │\n",
       "│ 0      ┆ [\"Program HDwcJBJXjL9FpJ7UBsYBtaDjsBUhuLCUYoz3zr8SWWaQ invoke [1]\", \"Program    ┆ 13    │\n",
       "│        ┆ log: Instruction: WriteEncodedVaa\", … \"Program                                  ┆       │\n",
       "│        ┆ HDwcJBJXjL9FpJ7UBsYBtaDjsBUhuLCUYoz3zr8SWWaQ failed: custom program error: 0…   ┆       │\n",
       "│ 1      ┆ [\"Program HDwcJBJXjL9FpJ7UBsYBtaDjsBUhuLCUYoz3zr8SWWaQ invoke [1]\", \"Program    ┆ 8     │\n",
       "│        ┆ log: Instruction: WriteEncodedVaa\", … \"Program                                  ┆       │\n",
       "│        ┆ ComputeBudget111111111111111111111111111111 success\"]                           ┆       │\n",
       "│ 1      ┆ [\"Program pythWSnswVUd12oZpeFP8e9CVaEqJg25g1Vtc2biRsT invoke [1]\", \"Program     ┆ 8     │\n",
       "│        ┆ log: Instruction: UpdatePriceFeed\", … \"Program                                  ┆       │\n",
       "│        ┆ ComputeBudget111111111111111111111111111111 success\"]                           ┆       │\n",
       "│ …      ┆ …                                                                               ┆ …     │\n",
       "│ 1      ┆ [\"Program ComputeBudget111111111111111111111111111111 invoke [1]\", \"Program     ┆ 1     │\n",
       "│        ┆ ComputeBudget111111111111111111111111111111 success\", … \"Program                ┆       │\n",
       "│        ┆ ZETAxsqBRek56DhiGXrn75yj2NHU3aYUnxvHXpkf3aD success\"]                           ┆       │\n",
       "│ 1      ┆ [\"Program ComputeBudget111111111111111111111111111111 invoke [1]\", \"Program     ┆ 1     │\n",
       "│        ┆ ComputeBudget111111111111111111111111111111 success\", … \"Program                ┆       │\n",
       "│        ┆ ZETAxsqBRek56DhiGXrn75yj2NHU3aYUnxvHXpkf3aD success\"]                           ┆       │\n",
       "│ 1      ┆ [\"Program ComputeBudget111111111111111111111111111111 invoke [1]\", \"Program     ┆ 1     │\n",
       "│        ┆ ComputeBudget111111111111111111111111111111 success\", … \"Program                ┆       │\n",
       "│        ┆ ZETAxsqBRek56DhiGXrn75yj2NHU3aYUnxvHXpkf3aD success\"]                           ┆       │\n",
       "│ 1      ┆ [\"Program ComputeBudget111111111111111111111111111111 invoke [1]\", \"Program     ┆ 1     │\n",
       "│        ┆ ComputeBudget111111111111111111111111111111 success\", … \"Program                ┆       │\n",
       "│        ┆ ZETAxsqBRek56DhiGXrn75yj2NHU3aYUnxvHXpkf3aD success\"]                           ┆       │\n",
       "│ 1      ┆ [\"Program ComputeBudget111111111111111111111111111111 invoke [1]\", \"Program     ┆ 1     │\n",
       "│        ┆ ComputeBudget111111111111111111111111111111 success\", … \"Program                ┆       │\n",
       "│        ┆ ZETAxsqBRek56DhiGXrn75yj2NHU3aYUnxvHXpkf3aD success\"]                           ┆       │\n",
       "└────────┴─────────────────────────────────────────────────────────────────────────────────┴───────┘"
      ]
     },
     "execution_count": 6,
     "metadata": {},
     "output_type": "execute_result"
    }
   ],
   "source": [
    "df.group_by('status', 'log_messages').agg(\n",
    "    pl.len().alias('count')).sort(by='count', descending=True)"
   ]
  },
  {
   "cell_type": "code",
   "execution_count": 7,
   "metadata": {},
   "outputs": [
    {
     "data": {
      "text/html": [
       "<div><style>\n",
       ".dataframe > thead > tr,\n",
       ".dataframe > tbody > tr {\n",
       "  text-align: right;\n",
       "  white-space: pre-wrap;\n",
       "}\n",
       "</style>\n",
       "<small>shape: (10, 3)</small><table border=\"1\" class=\"dataframe\"><thead><tr><th>block_slot</th><th>status</th><th>count</th></tr><tr><td>i64</td><td>str</td><td>u32</td></tr></thead><tbody><tr><td>284218699</td><td>&quot;0&quot;</td><td>34</td></tr><tr><td>284218767</td><td>&quot;0&quot;</td><td>27</td></tr><tr><td>284218698</td><td>&quot;0&quot;</td><td>24</td></tr><tr><td>284218551</td><td>&quot;0&quot;</td><td>23</td></tr><tr><td>284218481</td><td>&quot;0&quot;</td><td>20</td></tr><tr><td>284218477</td><td>&quot;0&quot;</td><td>19</td></tr><tr><td>284218242</td><td>&quot;0&quot;</td><td>19</td></tr><tr><td>284218427</td><td>&quot;0&quot;</td><td>18</td></tr><tr><td>284218342</td><td>&quot;0&quot;</td><td>18</td></tr><tr><td>284218770</td><td>&quot;0&quot;</td><td>16</td></tr></tbody></table></div>"
      ],
      "text/plain": [
       "shape: (10, 3)\n",
       "┌────────────┬────────┬───────┐\n",
       "│ block_slot ┆ status ┆ count │\n",
       "│ ---        ┆ ---    ┆ ---   │\n",
       "│ i64        ┆ str    ┆ u32   │\n",
       "╞════════════╪════════╪═══════╡\n",
       "│ 284218699  ┆ 0      ┆ 34    │\n",
       "│ 284218767  ┆ 0      ┆ 27    │\n",
       "│ 284218698  ┆ 0      ┆ 24    │\n",
       "│ 284218551  ┆ 0      ┆ 23    │\n",
       "│ 284218481  ┆ 0      ┆ 20    │\n",
       "│ 284218477  ┆ 0      ┆ 19    │\n",
       "│ 284218242  ┆ 0      ┆ 19    │\n",
       "│ 284218427  ┆ 0      ┆ 18    │\n",
       "│ 284218342  ┆ 0      ┆ 18    │\n",
       "│ 284218770  ┆ 0      ┆ 16    │\n",
       "└────────────┴────────┴───────┘"
      ]
     },
     "execution_count": 7,
     "metadata": {},
     "output_type": "execute_result"
    }
   ],
   "source": [
    "# blocks with highest error rates\n",
    "df.group_by('block_slot', 'status').agg(pl.len().alias('count')).sort(\n",
    "    by='count', descending=True).filter(pl.col('status') == \"0\").head(10)"
   ]
  },
  {
   "cell_type": "code",
   "execution_count": 8,
   "metadata": {},
   "outputs": [
    {
     "data": {
      "text/html": [
       "<div><style>\n",
       ".dataframe > thead > tr,\n",
       ".dataframe > tbody > tr {\n",
       "  text-align: right;\n",
       "  white-space: pre-wrap;\n",
       "}\n",
       "</style>\n",
       "<small>shape: (10, 3)</small><table border=\"1\" class=\"dataframe\"><thead><tr><th>block_slot</th><th>status</th><th>count</th></tr><tr><td>i64</td><td>str</td><td>u32</td></tr></thead><tbody><tr><td>284218418</td><td>&quot;1&quot;</td><td>28</td></tr><tr><td>284218381</td><td>&quot;1&quot;</td><td>24</td></tr><tr><td>284218583</td><td>&quot;1&quot;</td><td>22</td></tr><tr><td>284218353</td><td>&quot;1&quot;</td><td>16</td></tr><tr><td>284218339</td><td>&quot;1&quot;</td><td>16</td></tr><tr><td>284218762</td><td>&quot;1&quot;</td><td>16</td></tr><tr><td>284218768</td><td>&quot;1&quot;</td><td>16</td></tr><tr><td>284218239</td><td>&quot;1&quot;</td><td>16</td></tr><tr><td>284218727</td><td>&quot;1&quot;</td><td>16</td></tr><tr><td>284218549</td><td>&quot;1&quot;</td><td>16</td></tr></tbody></table></div>"
      ],
      "text/plain": [
       "shape: (10, 3)\n",
       "┌────────────┬────────┬───────┐\n",
       "│ block_slot ┆ status ┆ count │\n",
       "│ ---        ┆ ---    ┆ ---   │\n",
       "│ i64        ┆ str    ┆ u32   │\n",
       "╞════════════╪════════╪═══════╡\n",
       "│ 284218418  ┆ 1      ┆ 28    │\n",
       "│ 284218381  ┆ 1      ┆ 24    │\n",
       "│ 284218583  ┆ 1      ┆ 22    │\n",
       "│ 284218353  ┆ 1      ┆ 16    │\n",
       "│ 284218339  ┆ 1      ┆ 16    │\n",
       "│ 284218762  ┆ 1      ┆ 16    │\n",
       "│ 284218768  ┆ 1      ┆ 16    │\n",
       "│ 284218239  ┆ 1      ┆ 16    │\n",
       "│ 284218727  ┆ 1      ┆ 16    │\n",
       "│ 284218549  ┆ 1      ┆ 16    │\n",
       "└────────────┴────────┴───────┘"
      ]
     },
     "execution_count": 8,
     "metadata": {},
     "output_type": "execute_result"
    }
   ],
   "source": [
    "df.group_by('block_slot', 'status').agg(pl.len().alias('count')).sort(\n",
    "    by='count', descending=True).filter(pl.col('status') == \"1\").head(10)"
   ]
  },
  {
   "cell_type": "markdown",
   "metadata": {},
   "source": [
    "### What do failed messages look like?"
   ]
  },
  {
   "cell_type": "code",
   "execution_count": 9,
   "metadata": {},
   "outputs": [
    {
     "data": {
      "text/html": [
       "<div><style>\n",
       ".dataframe > thead > tr,\n",
       ".dataframe > tbody > tr {\n",
       "  text-align: right;\n",
       "  white-space: pre-wrap;\n",
       "}\n",
       "</style>\n",
       "<small>shape: (0, 3)</small><table border=\"1\" class=\"dataframe\"><thead><tr><th>block_slot</th><th>status</th><th>count</th></tr><tr><td>i64</td><td>str</td><td>u32</td></tr></thead><tbody></tbody></table></div>"
      ],
      "text/plain": [
       "shape: (0, 3)\n",
       "┌────────────┬────────┬───────┐\n",
       "│ block_slot ┆ status ┆ count │\n",
       "│ ---        ┆ ---    ┆ ---   │\n",
       "│ i64        ┆ str    ┆ u32   │\n",
       "╞════════════╪════════╪═══════╡\n",
       "└────────────┴────────┴───────┘"
      ]
     },
     "execution_count": 9,
     "metadata": {},
     "output_type": "execute_result"
    }
   ],
   "source": [
    "high_fail_block = df.filter(pl.col('block_slot') == 284194723).group_by(\n",
    "    'block_slot', 'status').agg(pl.len().alias('count')).sort(by='count', descending=True)\n",
    "high_fail_block"
   ]
  },
  {
   "cell_type": "code",
   "execution_count": 10,
   "metadata": {},
   "outputs": [],
   "source": [
    "fail_df = df.filter(pl.col('block_slot') == 284194723)"
   ]
  },
  {
   "cell_type": "code",
   "execution_count": 11,
   "metadata": {},
   "outputs": [
    {
     "data": {
      "text/html": [
       "<div><style>\n",
       ".dataframe > thead > tr,\n",
       ".dataframe > tbody > tr {\n",
       "  text-align: right;\n",
       "  white-space: pre-wrap;\n",
       "}\n",
       "</style>\n",
       "<small>shape: (0, 2)</small><table border=\"1\" class=\"dataframe\"><thead><tr><th>log_messages</th><th>count</th></tr><tr><td>list[str]</td><td>u32</td></tr></thead><tbody></tbody></table></div>"
      ],
      "text/plain": [
       "shape: (0, 2)\n",
       "┌──────────────┬───────┐\n",
       "│ log_messages ┆ count │\n",
       "│ ---          ┆ ---   │\n",
       "│ list[str]    ┆ u32   │\n",
       "╞══════════════╪═══════╡\n",
       "└──────────────┴───────┘"
      ]
     },
     "execution_count": 11,
     "metadata": {},
     "output_type": "execute_result"
    }
   ],
   "source": [
    "fail_df.filter(pl.col('status') == \"0\").group_by('log_messages').agg(\n",
    "    pl.len().alias('count')).sort(by='count', descending=True)"
   ]
  },
  {
   "cell_type": "code",
   "execution_count": 12,
   "metadata": {},
   "outputs": [],
   "source": [
    "for i in range(len(fail_df.filter(pl.col('status') == \"0\").group_by('log_messages').agg(pl.len().alias('count')).sort(by='count', descending=True).to_dicts())):\n",
    "    print(fail_df.filter(pl.col('status') == \"0\").group_by('log_messages').agg(\n",
    "        pl.len().alias('count')).sort(by='count', descending=True).to_dicts()[i])"
   ]
  },
  {
   "cell_type": "code",
   "execution_count": 13,
   "metadata": {},
   "outputs": [],
   "source": [
    "# Filter the DataFrame where any log_message contains 'vaa'.\n",
    "filtered_df = fail_df.with_columns(\n",
    "    default_match=pl.col(\"log_messages\").list.eval(\n",
    "        pl.element().str.contains(\"Error\", literal=True, strict=True))\n",
    ")"
   ]
  },
  {
   "cell_type": "code",
   "execution_count": 14,
   "metadata": {},
   "outputs": [],
   "source": [
    "explode_filter = filtered_df.select('index', 'status', 'log_messages', 'default_match').explode(\n",
    "    'log_messages', 'default_match').filter(pl.col('default_match') == True)"
   ]
  },
  {
   "cell_type": "code",
   "execution_count": 15,
   "metadata": {},
   "outputs": [
    {
     "data": {
      "text/html": [
       "<div><style>\n",
       ".dataframe > thead > tr,\n",
       ".dataframe > tbody > tr {\n",
       "  text-align: right;\n",
       "  white-space: pre-wrap;\n",
       "}\n",
       "</style>\n",
       "<small>shape: (0, 3)</small><table border=\"1\" class=\"dataframe\"><thead><tr><th>log_messages</th><th>default_match</th><th>count</th></tr><tr><td>str</td><td>bool</td><td>u32</td></tr></thead><tbody></tbody></table></div>"
      ],
      "text/plain": [
       "shape: (0, 3)\n",
       "┌──────────────┬───────────────┬───────┐\n",
       "│ log_messages ┆ default_match ┆ count │\n",
       "│ ---          ┆ ---           ┆ ---   │\n",
       "│ str          ┆ bool          ┆ u32   │\n",
       "╞══════════════╪═══════════════╪═══════╡\n",
       "└──────────────┴───────────────┴───────┘"
      ]
     },
     "execution_count": 15,
     "metadata": {},
     "output_type": "execute_result"
    }
   ],
   "source": [
    "# we just get a generic invalid oracle update value.\n",
    "explode_filter.group_by('log_messages', 'default_match').agg(\n",
    "    pl.len().alias('count'))"
   ]
  },
  {
   "cell_type": "markdown",
   "metadata": {},
   "source": [
    "### jito blocks"
   ]
  },
  {
   "cell_type": "code",
   "execution_count": 16,
   "metadata": {},
   "outputs": [],
   "source": [
    "# List of jito tip accounts\n",
    "jito_tip_accts = [\n",
    "    '96gYZGLnJYVFmbjzopPSU6QiEV5fGqZNyN9nmNhvrZU5',\n",
    "    'HFqU5x63VTqvQss8hp11i4wVV8bD44PvwucfZ2bU7gRe',\n",
    "    'Cw8CFyM9FkoMi7K7Crf6HNQqf4uEMzpKw6QNghXLvLkY',\n",
    "    'ADaUMid9yfUytqMBgopwjb2DTLSokTSzL1zt6iGPaS49',\n",
    "    'DfXygSm4jCyNCybVYYK6DwvWqjKee8pbDmJGcLWNDXjh',\n",
    "    'ADuUkR4vqLUMWXxW9gh6D6L8pMSawimctcNZ5pGwDcEt',\n",
    "    'DttWaMuVvTiduZRnguLF7jNxTgiMBZ1hyAumKUiL2KRL',\n",
    "    '3AVi9Tg9Uo68tJfuvoKvqKNWKkC5wPdSSdeBnizKZ6jT'\n",
    "]"
   ]
  },
  {
   "cell_type": "code",
   "execution_count": 19,
   "metadata": {},
   "outputs": [],
   "source": [
    "jito_df = (\n",
    "    df.explode('accounts')\n",
    "    .with_columns(\n",
    "    pl.col(\"accounts\").struct.field(\"pubkey\").alias(\"jit_acct\")\n",
    "    )\n",
    ").filter(pl.col('jit_acct').is_in(jito_tip_accts)).select('block_slot').unique()"
   ]
  },
  {
   "cell_type": "code",
   "execution_count": 26,
   "metadata": {},
   "outputs": [],
   "source": [
    "filtered_block_df = df.with_columns(\n",
    "    pl.col('block_slot').is_in(jito_df.to_pandas()['block_slot'].to_list()).alias('jito_block')\n",
    ")\n"
   ]
  },
  {
   "cell_type": "code",
   "execution_count": 43,
   "metadata": {},
   "outputs": [
    {
     "data": {
      "text/html": [
       "<div><style>\n",
       ".dataframe > thead > tr,\n",
       ".dataframe > tbody > tr {\n",
       "  text-align: right;\n",
       "  white-space: pre-wrap;\n",
       "}\n",
       "</style>\n",
       "<small>shape: (2, 3)</small><table border=\"1\" class=\"dataframe\"><thead><tr><th>status</th><th>jito_block</th><th>block_count</th></tr><tr><td>str</td><td>bool</td><td>u32</td></tr></thead><tbody><tr><td>&quot;1&quot;</td><td>false</td><td>146</td></tr><tr><td>&quot;0&quot;</td><td>false</td><td>46</td></tr></tbody></table></div>"
      ],
      "text/plain": [
       "shape: (2, 3)\n",
       "┌────────┬────────────┬─────────────┐\n",
       "│ status ┆ jito_block ┆ block_count │\n",
       "│ ---    ┆ ---        ┆ ---         │\n",
       "│ str    ┆ bool       ┆ u32         │\n",
       "╞════════╪════════════╪═════════════╡\n",
       "│ 1      ┆ false      ┆ 146         │\n",
       "│ 0      ┆ false      ┆ 46          │\n",
       "└────────┴────────────┴─────────────┘"
      ]
     },
     "execution_count": 43,
     "metadata": {},
     "output_type": "execute_result"
    }
   ],
   "source": [
    "(\n",
    "    filtered_block_df\n",
    "    .group_by('block_slot', 'status').agg(\n",
    "    pl.len().alias('count'),\n",
    "    pl.col('jito_block').first().alias('jito_block')\n",
    "    )\n",
    "    .filter(pl.col('jito_block') == False)\n",
    "    # .group_by('block_slot', 'jito_bl  ock').agg(\n",
    "    #     pl.col('count')\n",
    "    # )\n",
    "    .sort(by='count', descending=True)\n",
    "    ).group_by('status', 'jito_block').agg(\n",
    "        pl.len().alias('block_count'))\n"
   ]
  },
  {
   "cell_type": "code",
   "execution_count": 44,
   "metadata": {},
   "outputs": [
    {
     "data": {
      "text/html": [
       "<div><style>\n",
       ".dataframe > thead > tr,\n",
       ".dataframe > tbody > tr {\n",
       "  text-align: right;\n",
       "  white-space: pre-wrap;\n",
       "}\n",
       "</style>\n",
       "<small>shape: (2, 3)</small><table border=\"1\" class=\"dataframe\"><thead><tr><th>status</th><th>jito_block</th><th>block_count</th></tr><tr><td>str</td><td>bool</td><td>u32</td></tr></thead><tbody><tr><td>&quot;0&quot;</td><td>true</td><td>2</td></tr><tr><td>&quot;1&quot;</td><td>true</td><td>28</td></tr></tbody></table></div>"
      ],
      "text/plain": [
       "shape: (2, 3)\n",
       "┌────────┬────────────┬─────────────┐\n",
       "│ status ┆ jito_block ┆ block_count │\n",
       "│ ---    ┆ ---        ┆ ---         │\n",
       "│ str    ┆ bool       ┆ u32         │\n",
       "╞════════╪════════════╪═════════════╡\n",
       "│ 0      ┆ true       ┆ 2           │\n",
       "│ 1      ┆ true       ┆ 28          │\n",
       "└────────┴────────────┴─────────────┘"
      ]
     },
     "execution_count": 44,
     "metadata": {},
     "output_type": "execute_result"
    }
   ],
   "source": [
    "(\n",
    "    filtered_block_df\n",
    "    .group_by('block_slot', 'status').agg(\n",
    "    pl.len().alias('count'),\n",
    "    pl.col('jito_block').first().alias('jito_block')\n",
    "    )\n",
    "    .filter(pl.col('jito_block') == True)\n",
    "    # .group_by('block_slot', 'jito_block').agg(\n",
    "    #     pl.col('count')\n",
    "    # )\n",
    "    .sort(by='count', descending=True)\n",
    "    ).group_by('status', 'jito_block').agg(\n",
    "        pl.len().alias('block_count'))"
   ]
  },
  {
   "cell_type": "code",
   "execution_count": null,
   "metadata": {},
   "outputs": [],
   "source": []
  }
 ],
 "metadata": {
  "kernelspec": {
   "display_name": ".venv",
   "language": "python",
   "name": "python3"
  },
  "language_info": {
   "codemirror_mode": {
    "name": "ipython",
    "version": 3
   },
   "file_extension": ".py",
   "mimetype": "text/x-python",
   "name": "python",
   "nbconvert_exporter": "python",
   "pygments_lexer": "ipython3",
   "version": "3.12.2"
  }
 },
 "nbformat": 4,
 "nbformat_minor": 2
}
