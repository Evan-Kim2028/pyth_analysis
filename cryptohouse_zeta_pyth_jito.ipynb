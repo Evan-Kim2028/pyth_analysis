{
 "cells": [
  {
   "cell_type": "code",
   "execution_count": 1,
   "metadata": {},
   "outputs": [
    {
     "data": {
      "text/plain": [
       "polars.config.Config"
      ]
     },
     "execution_count": 1,
     "metadata": {},
     "output_type": "execute_result"
    }
   ],
   "source": [
    "import clickhouse_connect\n",
    "import pandas as pd\n",
    "import polars as pl\n",
    "\n",
    "pl.Config.set_fmt_str_lengths(200)\n",
    "pl.Config.set_fmt_float(\"full\")"
   ]
  },
  {
   "cell_type": "markdown",
   "metadata": {},
   "source": [
    "### Direct connect to Cryptohouse\n",
    "Connect to cryptohouse with client to do some initial querying and result aggregation.\n",
    "\n",
    "\n",
    "### Limitations\n",
    "- Can only do 1000 blocks, the direct access limits are still being figured out.\n"
   ]
  },
  {
   "cell_type": "code",
   "execution_count": 2,
   "metadata": {},
   "outputs": [],
   "source": [
    "# Create a connection to the ClickHouse server\n",
    "client = clickhouse_connect.get_client(\n",
    "    host='crypto-clickhouse.clickhouse.com',\n",
    "    username='crypto',\n",
    "    password='',\n",
    "    secure=True\n",
    ")"
   ]
  },
  {
   "cell_type": "code",
   "execution_count": 9,
   "metadata": {},
   "outputs": [],
   "source": [
    "# Execute the query and return as a pandas dataframe\n",
    "query: str = \"\"\"\n",
    "SELECT\n",
    "  *\n",
    "FROM\n",
    "  solana.transactions ARRAY\n",
    "  JOIN accounts AS account\n",
    "WHERE\n",
    "  arrayExists(\n",
    "    x -> x.1 IN [ \n",
    "        'Fc8bpeCMifWYv97pQ3k5xDvd98nuVg6yAaZrwmy4RRp6', -- zeta dex address\n",
    "        'pythWSnswVUd12oZpeFP8e9CVaEqJg25g1Vtc2biRsT' -- pyth price feed\n",
    "    ],\n",
    "    accounts\n",
    "  )\n",
    " // The block_slot range 282,300,000 to 282,900,000 is about 3 days and is a known range where probems were being experienced\n",
    " AND block_slot > 282899000\n",
    " AND block_slot < 282900000\n",
    "  // AND block_timestamp >= now() - INTERVAL 5 MINUTE\n",
    "  AND account.2 = true -- Filter for signer accounts only\n",
    "\"\"\""
   ]
  },
  {
   "cell_type": "code",
   "execution_count": 10,
   "metadata": {},
   "outputs": [],
   "source": [
    "results: pd.DataFrame = client.query_df(query)"
   ]
  },
  {
   "cell_type": "code",
   "execution_count": 11,
   "metadata": {},
   "outputs": [],
   "source": [
    "df = pl.from_pandas(results)"
   ]
  },
  {
   "cell_type": "code",
   "execution_count": 12,
   "metadata": {},
   "outputs": [
    {
     "data": {
      "text/html": [
       "<div><style>\n",
       ".dataframe > thead > tr,\n",
       ".dataframe > tbody > tr {\n",
       "  text-align: right;\n",
       "  white-space: pre-wrap;\n",
       "}\n",
       "</style>\n",
       "<small>shape: (1_275, 3)</small><table border=\"1\" class=\"dataframe\"><thead><tr><th>status</th><th>log_messages</th><th>count</th></tr><tr><td>str</td><td>list[str]</td><td>u32</td></tr></thead><tbody><tr><td>&quot;0&quot;</td><td>[&quot;Program ComputeBudget111111111111111111111111111111 invoke [1]&quot;, &quot;Program ComputeBudget111111111111111111111111111111 success&quot;, … &quot;Program ZETAxsqBRek56DhiGXrn75yj2NHU3aYUnxvHXpkf3aD failed: custom program error: 0x1819&quot;]</td><td>702</td></tr><tr><td>&quot;1&quot;</td><td>[&quot;Program 11111111111111111111111111111111 invoke [1]&quot;, &quot;Program 11111111111111111111111111111111 success&quot;, … &quot;Program ComputeBudget111111111111111111111111111111 success&quot;]</td><td>410</td></tr><tr><td>&quot;0&quot;</td><td>[&quot;Program pythWSnswVUd12oZpeFP8e9CVaEqJg25g1Vtc2biRsT invoke [1]&quot;, &quot;Program log: Instruction: UpdatePriceFeed&quot;, … &quot;Program pythWSnswVUd12oZpeFP8e9CVaEqJg25g1Vtc2biRsT failed: custom program error: 0x1777&quot;]</td><td>134</td></tr><tr><td>&quot;1&quot;</td><td>[&quot;Program HDwcJBJXjL9FpJ7UBsYBtaDjsBUhuLCUYoz3zr8SWWaQ invoke [1]&quot;, &quot;Program log: Instruction: CloseEncodedVaa&quot;, … &quot;Program ComputeBudget111111111111111111111111111111 success&quot;]</td><td>82</td></tr><tr><td>&quot;0&quot;</td><td>[&quot;Program HDwcJBJXjL9FpJ7UBsYBtaDjsBUhuLCUYoz3zr8SWWaQ invoke [1]&quot;, &quot;Program log: Instruction: WriteEncodedVaa&quot;, … &quot;Program HDwcJBJXjL9FpJ7UBsYBtaDjsBUhuLCUYoz3zr8SWWaQ failed: custom program error: 0xbbb&quot;]</td><td>82</td></tr><tr><td>&hellip;</td><td>&hellip;</td><td>&hellip;</td></tr><tr><td>&quot;1&quot;</td><td>[&quot;Program ComputeBudget111111111111111111111111111111 invoke [1]&quot;, &quot;Program ComputeBudget111111111111111111111111111111 success&quot;, … &quot;Program ZETAxsqBRek56DhiGXrn75yj2NHU3aYUnxvHXpkf3aD success&quot;]</td><td>1</td></tr><tr><td>&quot;1&quot;</td><td>[&quot;Program ZETAxsqBRek56DhiGXrn75yj2NHU3aYUnxvHXpkf3aD invoke [1]&quot;, &quot;Program log: Instruction: UpdatePricingV3&quot;, … &quot;Program ZETAxsqBRek56DhiGXrn75yj2NHU3aYUnxvHXpkf3aD success&quot;]</td><td>1</td></tr><tr><td>&quot;1&quot;</td><td>[&quot;Program HDwcJBJXjL9FpJ7UBsYBtaDjsBUhuLCUYoz3zr8SWWaQ invoke [1]&quot;, &quot;Program log: Instruction: WriteEncodedVaa&quot;, … &quot;Program ComputeBudget111111111111111111111111111111 success&quot;]</td><td>1</td></tr><tr><td>&quot;1&quot;</td><td>[&quot;Program ComputeBudget111111111111111111111111111111 invoke [1]&quot;, &quot;Program ComputeBudget111111111111111111111111111111 success&quot;, … &quot;Program pythWSnswVUd12oZpeFP8e9CVaEqJg25g1Vtc2biRsT success&quot;]</td><td>1</td></tr><tr><td>&quot;1&quot;</td><td>[&quot;Program HDwcJBJXjL9FpJ7UBsYBtaDjsBUhuLCUYoz3zr8SWWaQ invoke [1]&quot;, &quot;Program log: Instruction: WriteEncodedVaa&quot;, … &quot;Program ComputeBudget111111111111111111111111111111 success&quot;]</td><td>1</td></tr></tbody></table></div>"
      ],
      "text/plain": [
       "shape: (1_275, 3)\n",
       "┌────────┬─────────────────────────────────────────────────────────────────────────────────┬───────┐\n",
       "│ status ┆ log_messages                                                                    ┆ count │\n",
       "│ ---    ┆ ---                                                                             ┆ ---   │\n",
       "│ str    ┆ list[str]                                                                       ┆ u32   │\n",
       "╞════════╪═════════════════════════════════════════════════════════════════════════════════╪═══════╡\n",
       "│ 0      ┆ [\"Program ComputeBudget111111111111111111111111111111 invoke [1]\", \"Program     ┆ 702   │\n",
       "│        ┆ ComputeBudget111111111111111111111111111111 success\", … \"Program                ┆       │\n",
       "│        ┆ ZETAxsqBRek56DhiGXrn75yj2NHU3aYUnxvHXpkf3aD failed: custom …                    ┆       │\n",
       "│ 1      ┆ [\"Program 11111111111111111111111111111111 invoke [1]\", \"Program                ┆ 410   │\n",
       "│        ┆ 11111111111111111111111111111111 success\", … \"Program                           ┆       │\n",
       "│        ┆ ComputeBudget111111111111111111111111111111 success\"]                           ┆       │\n",
       "│ 0      ┆ [\"Program pythWSnswVUd12oZpeFP8e9CVaEqJg25g1Vtc2biRsT invoke [1]\", \"Program     ┆ 134   │\n",
       "│        ┆ log: Instruction: UpdatePriceFeed\", … \"Program                                  ┆       │\n",
       "│        ┆ pythWSnswVUd12oZpeFP8e9CVaEqJg25g1Vtc2biRsT failed: custom program error: 0x1…  ┆       │\n",
       "│ 1      ┆ [\"Program HDwcJBJXjL9FpJ7UBsYBtaDjsBUhuLCUYoz3zr8SWWaQ invoke [1]\", \"Program    ┆ 82    │\n",
       "│        ┆ log: Instruction: CloseEncodedVaa\", … \"Program                                  ┆       │\n",
       "│        ┆ ComputeBudget111111111111111111111111111111 success\"]                           ┆       │\n",
       "│ 0      ┆ [\"Program HDwcJBJXjL9FpJ7UBsYBtaDjsBUhuLCUYoz3zr8SWWaQ invoke [1]\", \"Program    ┆ 82    │\n",
       "│        ┆ log: Instruction: WriteEncodedVaa\", … \"Program                                  ┆       │\n",
       "│        ┆ HDwcJBJXjL9FpJ7UBsYBtaDjsBUhuLCUYoz3zr8SWWaQ failed: custom program error: 0…   ┆       │\n",
       "│ …      ┆ …                                                                               ┆ …     │\n",
       "│ 1      ┆ [\"Program ComputeBudget111111111111111111111111111111 invoke [1]\", \"Program     ┆ 1     │\n",
       "│        ┆ ComputeBudget111111111111111111111111111111 success\", … \"Program                ┆       │\n",
       "│        ┆ ZETAxsqBRek56DhiGXrn75yj2NHU3aYUnxvHXpkf3aD success\"]                           ┆       │\n",
       "│ 1      ┆ [\"Program ZETAxsqBRek56DhiGXrn75yj2NHU3aYUnxvHXpkf3aD invoke [1]\", \"Program     ┆ 1     │\n",
       "│        ┆ log: Instruction: UpdatePricingV3\", … \"Program                                  ┆       │\n",
       "│        ┆ ZETAxsqBRek56DhiGXrn75yj2NHU3aYUnxvHXpkf3aD success\"]                           ┆       │\n",
       "│ 1      ┆ [\"Program HDwcJBJXjL9FpJ7UBsYBtaDjsBUhuLCUYoz3zr8SWWaQ invoke [1]\", \"Program    ┆ 1     │\n",
       "│        ┆ log: Instruction: WriteEncodedVaa\", … \"Program                                  ┆       │\n",
       "│        ┆ ComputeBudget111111111111111111111111111111 success\"]                           ┆       │\n",
       "│ 1      ┆ [\"Program ComputeBudget111111111111111111111111111111 invoke [1]\", \"Program     ┆ 1     │\n",
       "│        ┆ ComputeBudget111111111111111111111111111111 success\", … \"Program                ┆       │\n",
       "│        ┆ pythWSnswVUd12oZpeFP8e9CVaEqJg25g1Vtc2biRsT success\"]                           ┆       │\n",
       "│ 1      ┆ [\"Program HDwcJBJXjL9FpJ7UBsYBtaDjsBUhuLCUYoz3zr8SWWaQ invoke [1]\", \"Program    ┆ 1     │\n",
       "│        ┆ log: Instruction: WriteEncodedVaa\", … \"Program                                  ┆       │\n",
       "│        ┆ ComputeBudget111111111111111111111111111111 success\"]                           ┆       │\n",
       "└────────┴─────────────────────────────────────────────────────────────────────────────────┴───────┘"
      ]
     },
     "execution_count": 12,
     "metadata": {},
     "output_type": "execute_result"
    }
   ],
   "source": [
    "df.group_by('status', 'log_messages').agg(\n",
    "    pl.len().alias('count')).sort(by='count', descending=True)"
   ]
  },
  {
   "cell_type": "code",
   "execution_count": 13,
   "metadata": {},
   "outputs": [],
   "source": [
    "# List of jito tip accounts\n",
    "jito_tip_accts = [\n",
    "    '96gYZGLnJYVFmbjzopPSU6QiEV5fGqZNyN9nmNhvrZU5',\n",
    "    'HFqU5x63VTqvQss8hp11i4wVV8bD44PvwucfZ2bU7gRe',\n",
    "    'Cw8CFyM9FkoMi7K7Crf6HNQqf4uEMzpKw6QNghXLvLkY',\n",
    "    'ADaUMid9yfUytqMBgopwjb2DTLSokTSzL1zt6iGPaS49',\n",
    "    'DfXygSm4jCyNCybVYYK6DwvWqjKee8pbDmJGcLWNDXjh',\n",
    "    'ADuUkR4vqLUMWXxW9gh6D6L8pMSawimctcNZ5pGwDcEt',\n",
    "    'DttWaMuVvTiduZRnguLF7jNxTgiMBZ1hyAumKUiL2KRL',\n",
    "    '3AVi9Tg9Uo68tJfuvoKvqKNWKkC5wPdSSdeBnizKZ6jT'\n",
    "]"
   ]
  },
  {
   "cell_type": "code",
   "execution_count": 48,
   "metadata": {},
   "outputs": [
    {
     "data": {
      "text/plain": [
       "(511, 1)"
      ]
     },
     "execution_count": 48,
     "metadata": {},
     "output_type": "execute_result"
    }
   ],
   "source": [
    "df.select('block_slot').unique().shape"
   ]
  },
  {
   "cell_type": "code",
   "execution_count": 50,
   "metadata": {},
   "outputs": [
    {
     "data": {
      "text/html": [
       "<div><style>\n",
       ".dataframe > thead > tr,\n",
       ".dataframe > tbody > tr {\n",
       "  text-align: right;\n",
       "  white-space: pre-wrap;\n",
       "}\n",
       "</style>\n",
       "<small>shape: (44, 3)</small><table border=\"1\" class=\"dataframe\"><thead><tr><th>block_slot</th><th>accounts</th><th>jit_acct</th></tr><tr><td>i64</td><td>struct[3]</td><td>str</td></tr></thead><tbody><tr><td>282899272</td><td>{&quot;Cw8CFyM9FkoMi7K7Crf6HNQqf4uEMzpKw6QNghXLvLkY&quot;,false,true}</td><td>&quot;Cw8CFyM9FkoMi7K7Crf6HNQqf4uEMzpKw6QNghXLvLkY&quot;</td></tr><tr><td>282899889</td><td>{&quot;DfXygSm4jCyNCybVYYK6DwvWqjKee8pbDmJGcLWNDXjh&quot;,false,true}</td><td>&quot;DfXygSm4jCyNCybVYYK6DwvWqjKee8pbDmJGcLWNDXjh&quot;</td></tr><tr><td>282899088</td><td>{&quot;Cw8CFyM9FkoMi7K7Crf6HNQqf4uEMzpKw6QNghXLvLkY&quot;,false,true}</td><td>&quot;Cw8CFyM9FkoMi7K7Crf6HNQqf4uEMzpKw6QNghXLvLkY&quot;</td></tr><tr><td>282899213</td><td>{&quot;96gYZGLnJYVFmbjzopPSU6QiEV5fGqZNyN9nmNhvrZU5&quot;,false,true}</td><td>&quot;96gYZGLnJYVFmbjzopPSU6QiEV5fGqZNyN9nmNhvrZU5&quot;</td></tr><tr><td>282899793</td><td>{&quot;DttWaMuVvTiduZRnguLF7jNxTgiMBZ1hyAumKUiL2KRL&quot;,false,true}</td><td>&quot;DttWaMuVvTiduZRnguLF7jNxTgiMBZ1hyAumKUiL2KRL&quot;</td></tr><tr><td>&hellip;</td><td>&hellip;</td><td>&hellip;</td></tr><tr><td>282899257</td><td>{&quot;Cw8CFyM9FkoMi7K7Crf6HNQqf4uEMzpKw6QNghXLvLkY&quot;,false,true}</td><td>&quot;Cw8CFyM9FkoMi7K7Crf6HNQqf4uEMzpKw6QNghXLvLkY&quot;</td></tr><tr><td>282899205</td><td>{&quot;HFqU5x63VTqvQss8hp11i4wVV8bD44PvwucfZ2bU7gRe&quot;,false,true}</td><td>&quot;HFqU5x63VTqvQss8hp11i4wVV8bD44PvwucfZ2bU7gRe&quot;</td></tr><tr><td>282899842</td><td>{&quot;96gYZGLnJYVFmbjzopPSU6QiEV5fGqZNyN9nmNhvrZU5&quot;,false,true}</td><td>&quot;96gYZGLnJYVFmbjzopPSU6QiEV5fGqZNyN9nmNhvrZU5&quot;</td></tr><tr><td>282899037</td><td>{&quot;DttWaMuVvTiduZRnguLF7jNxTgiMBZ1hyAumKUiL2KRL&quot;,false,true}</td><td>&quot;DttWaMuVvTiduZRnguLF7jNxTgiMBZ1hyAumKUiL2KRL&quot;</td></tr><tr><td>282899712</td><td>{&quot;96gYZGLnJYVFmbjzopPSU6QiEV5fGqZNyN9nmNhvrZU5&quot;,false,true}</td><td>&quot;96gYZGLnJYVFmbjzopPSU6QiEV5fGqZNyN9nmNhvrZU5&quot;</td></tr></tbody></table></div>"
      ],
      "text/plain": [
       "shape: (44, 3)\n",
       "┌────────────┬──────────────────────────────────────────┬──────────────────────────────────────────┐\n",
       "│ block_slot ┆ accounts                                 ┆ jit_acct                                 │\n",
       "│ ---        ┆ ---                                      ┆ ---                                      │\n",
       "│ i64        ┆ struct[3]                                ┆ str                                      │\n",
       "╞════════════╪══════════════════════════════════════════╪══════════════════════════════════════════╡\n",
       "│ 282899272  ┆ {\"Cw8CFyM9FkoMi7K7Crf6HNQqf4uEMzpKw6QNgh ┆ Cw8CFyM9FkoMi7K7Crf6HNQqf4uEMzpKw6QNghXL │\n",
       "│            ┆ XLvLkY\",false,true}                      ┆ vLkY                                     │\n",
       "│ 282899889  ┆ {\"DfXygSm4jCyNCybVYYK6DwvWqjKee8pbDmJGcL ┆ DfXygSm4jCyNCybVYYK6DwvWqjKee8pbDmJGcLWN │\n",
       "│            ┆ WNDXjh\",false,true}                      ┆ DXjh                                     │\n",
       "│ 282899088  ┆ {\"Cw8CFyM9FkoMi7K7Crf6HNQqf4uEMzpKw6QNgh ┆ Cw8CFyM9FkoMi7K7Crf6HNQqf4uEMzpKw6QNghXL │\n",
       "│            ┆ XLvLkY\",false,true}                      ┆ vLkY                                     │\n",
       "│ 282899213  ┆ {\"96gYZGLnJYVFmbjzopPSU6QiEV5fGqZNyN9nmN ┆ 96gYZGLnJYVFmbjzopPSU6QiEV5fGqZNyN9nmNhv │\n",
       "│            ┆ hvrZU5\",false,true}                      ┆ rZU5                                     │\n",
       "│ 282899793  ┆ {\"DttWaMuVvTiduZRnguLF7jNxTgiMBZ1hyAumKU ┆ DttWaMuVvTiduZRnguLF7jNxTgiMBZ1hyAumKUiL │\n",
       "│            ┆ iL2KRL\",false,true}                      ┆ 2KRL                                     │\n",
       "│ …          ┆ …                                        ┆ …                                        │\n",
       "│ 282899257  ┆ {\"Cw8CFyM9FkoMi7K7Crf6HNQqf4uEMzpKw6QNgh ┆ Cw8CFyM9FkoMi7K7Crf6HNQqf4uEMzpKw6QNghXL │\n",
       "│            ┆ XLvLkY\",false,true}                      ┆ vLkY                                     │\n",
       "│ 282899205  ┆ {\"HFqU5x63VTqvQss8hp11i4wVV8bD44PvwucfZ2 ┆ HFqU5x63VTqvQss8hp11i4wVV8bD44PvwucfZ2bU │\n",
       "│            ┆ bU7gRe\",false,true}                      ┆ 7gRe                                     │\n",
       "│ 282899842  ┆ {\"96gYZGLnJYVFmbjzopPSU6QiEV5fGqZNyN9nmN ┆ 96gYZGLnJYVFmbjzopPSU6QiEV5fGqZNyN9nmNhv │\n",
       "│            ┆ hvrZU5\",false,true}                      ┆ rZU5                                     │\n",
       "│ 282899037  ┆ {\"DttWaMuVvTiduZRnguLF7jNxTgiMBZ1hyAumKU ┆ DttWaMuVvTiduZRnguLF7jNxTgiMBZ1hyAumKUiL │\n",
       "│            ┆ iL2KRL\",false,true}                      ┆ 2KRL                                     │\n",
       "│ 282899712  ┆ {\"96gYZGLnJYVFmbjzopPSU6QiEV5fGqZNyN9nmN ┆ 96gYZGLnJYVFmbjzopPSU6QiEV5fGqZNyN9nmNhv │\n",
       "│            ┆ hvrZU5\",false,true}                      ┆ rZU5                                     │\n",
       "└────────────┴──────────────────────────────────────────┴──────────────────────────────────────────┘"
      ]
     },
     "execution_count": 50,
     "metadata": {},
     "output_type": "execute_result"
    }
   ],
   "source": [
    "(\n",
    "    df.explode('accounts')\n",
    "    .with_columns(\n",
    "    pl.col(\"accounts\").struct.field(\"pubkey\").alias(\"jit_acct\")\n",
    "    )\n",
    ").filter(pl.col('jit_acct').is_in(jito_tip_accts)).select('block_slot', 'accounts', 'jit_acct').unique()"
   ]
  },
  {
   "cell_type": "code",
   "execution_count": null,
   "metadata": {},
   "outputs": [],
   "source": []
  }
 ],
 "metadata": {
  "kernelspec": {
   "display_name": ".venv",
   "language": "python",
   "name": "python3"
  },
  "language_info": {
   "codemirror_mode": {
    "name": "ipython",
    "version": 3
   },
   "file_extension": ".py",
   "mimetype": "text/x-python",
   "name": "python",
   "nbconvert_exporter": "python",
   "pygments_lexer": "ipython3",
   "version": "3.12.2"
  }
 },
 "nbformat": 4,
 "nbformat_minor": 2
}
