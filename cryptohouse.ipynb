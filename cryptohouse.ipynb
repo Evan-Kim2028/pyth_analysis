{
 "cells": [
  {
   "cell_type": "code",
   "execution_count": 1,
   "metadata": {},
   "outputs": [
    {
     "data": {
      "text/plain": [
       "polars.config.Config"
      ]
     },
     "execution_count": 1,
     "metadata": {},
     "output_type": "execute_result"
    }
   ],
   "source": [
    "import clickhouse_connect\n",
    "import pandas as pd\n",
    "import polars as pl\n",
    "\n",
    "pl.Config.set_fmt_str_lengths(200)\n",
    "pl.Config.set_fmt_float(\"full\")"
   ]
  },
  {
   "cell_type": "markdown",
   "metadata": {},
   "source": [
    "### Direct connect to Cryptohouse\n",
    "Connect to cryptohouse with client to do some initial querying and result aggregation.\n",
    "\n",
    "\n",
    "### Limitations\n",
    "- Can only do 1000 blocks, the direct access limits are still being figured out.\n"
   ]
  },
  {
   "cell_type": "markdown",
   "metadata": {},
   "source": [
    "```\n",
    "[10:08]KemarTiti 🔮: Some of these transactions need to land sequentially\n",
    "\n",
    "when we use Jito we put them all in the same bundle, since Jito bundles enforce the ordering, so they land in the right order\n",
    "\n",
    "but when i looked at your data, they had were all landing (even in the same slot) but in the wrong order\n",
    "\n",
    "you need to make sure\n",
    "init vaa -> write vaa -> post price update -> close vaa lands in this order\n",
    "\n",
    "The naive way of accomplishing this is sending the first, then wait for confirmation, then send the second etc..\n",
    "\n",
    "Another way is Jito bundle\n",
    "```"
   ]
  },
  {
   "cell_type": "code",
   "execution_count": 2,
   "metadata": {},
   "outputs": [],
   "source": [
    "# Create a connection to the ClickHouse server\n",
    "client = clickhouse_connect.get_client(\n",
    "    host='crypto-clickhouse.clickhouse.com',\n",
    "    username='crypto',\n",
    "    password='',\n",
    "    secure=True\n",
    ")"
   ]
  },
  {
   "cell_type": "code",
   "execution_count": 3,
   "metadata": {},
   "outputs": [],
   "source": [
    "# Execute the query and return as a pandas dataframe\n",
    "query: str = \"\"\"\n",
    "SELECT\n",
    "  *\n",
    "FROM\n",
    "  solana.transactions ARRAY\n",
    "  JOIN accounts AS account\n",
    "WHERE\n",
    "  arrayExists(\n",
    "    x -> x.1 IN [ \n",
    "        'Fc8bpeCMifWYv97pQ3k5xDvd98nuVg6yAaZrwmy4RRp6', -- zeta dex address\n",
    "        'pythWSnswVUd12oZpeFP8e9CVaEqJg25g1Vtc2biRsT' -- pyth price feed\n",
    "    ],\n",
    "    accounts\n",
    "  )\n",
    " // The block_slot range 282,300,000 to 282,900,000 is about 3 days and is a known range where probems were being experienced\n",
    " AND block_slot > 282899000\n",
    " AND block_slot < 282900000\n",
    "  // AND block_timestamp >= now() - INTERVAL 5 MINUTE\n",
    "  AND account.2 = true -- Filter for signer accounts only\n",
    "\"\"\""
   ]
  },
  {
   "cell_type": "code",
   "execution_count": 4,
   "metadata": {},
   "outputs": [],
   "source": [
    "results: pd.DataFrame = client.query_df(query)"
   ]
  },
  {
   "cell_type": "code",
   "execution_count": 5,
   "metadata": {},
   "outputs": [],
   "source": [
    "df = pl.from_pandas(results)"
   ]
  },
  {
   "cell_type": "code",
   "execution_count": 6,
   "metadata": {},
   "outputs": [
    {
     "data": {
      "text/html": [
       "<div><style>\n",
       ".dataframe > thead > tr,\n",
       ".dataframe > tbody > tr {\n",
       "  text-align: right;\n",
       "  white-space: pre-wrap;\n",
       "}\n",
       "</style>\n",
       "<small>shape: (1_275, 3)</small><table border=\"1\" class=\"dataframe\"><thead><tr><th>status</th><th>log_messages</th><th>count</th></tr><tr><td>str</td><td>list[str]</td><td>u32</td></tr></thead><tbody><tr><td>&quot;0&quot;</td><td>[&quot;Program ComputeBudget111111111111111111111111111111 invoke [1]&quot;, &quot;Program ComputeBudget111111111111111111111111111111 success&quot;, … &quot;Program ZETAxsqBRek56DhiGXrn75yj2NHU3aYUnxvHXpkf3aD failed: custom program error: 0x1819&quot;]</td><td>702</td></tr><tr><td>&quot;1&quot;</td><td>[&quot;Program 11111111111111111111111111111111 invoke [1]&quot;, &quot;Program 11111111111111111111111111111111 success&quot;, … &quot;Program ComputeBudget111111111111111111111111111111 success&quot;]</td><td>410</td></tr><tr><td>&quot;0&quot;</td><td>[&quot;Program pythWSnswVUd12oZpeFP8e9CVaEqJg25g1Vtc2biRsT invoke [1]&quot;, &quot;Program log: Instruction: UpdatePriceFeed&quot;, … &quot;Program pythWSnswVUd12oZpeFP8e9CVaEqJg25g1Vtc2biRsT failed: custom program error: 0x1777&quot;]</td><td>134</td></tr><tr><td>&quot;1&quot;</td><td>[&quot;Program HDwcJBJXjL9FpJ7UBsYBtaDjsBUhuLCUYoz3zr8SWWaQ invoke [1]&quot;, &quot;Program log: Instruction: CloseEncodedVaa&quot;, … &quot;Program ComputeBudget111111111111111111111111111111 success&quot;]</td><td>82</td></tr><tr><td>&quot;0&quot;</td><td>[&quot;Program HDwcJBJXjL9FpJ7UBsYBtaDjsBUhuLCUYoz3zr8SWWaQ invoke [1]&quot;, &quot;Program log: Instruction: WriteEncodedVaa&quot;, … &quot;Program HDwcJBJXjL9FpJ7UBsYBtaDjsBUhuLCUYoz3zr8SWWaQ failed: custom program error: 0xbbb&quot;]</td><td>82</td></tr><tr><td>&hellip;</td><td>&hellip;</td><td>&hellip;</td></tr><tr><td>&quot;1&quot;</td><td>[&quot;Program pythWSnswVUd12oZpeFP8e9CVaEqJg25g1Vtc2biRsT invoke [1]&quot;, &quot;Program log: Instruction: UpdatePriceFeed&quot;, … &quot;Program ComputeBudget111111111111111111111111111111 success&quot;]</td><td>1</td></tr><tr><td>&quot;1&quot;</td><td>[&quot;Program HDwcJBJXjL9FpJ7UBsYBtaDjsBUhuLCUYoz3zr8SWWaQ invoke [1]&quot;, &quot;Program log: Instruction: WriteEncodedVaa&quot;, … &quot;Program ComputeBudget111111111111111111111111111111 success&quot;]</td><td>1</td></tr><tr><td>&quot;1&quot;</td><td>[&quot;Program HDwcJBJXjL9FpJ7UBsYBtaDjsBUhuLCUYoz3zr8SWWaQ invoke [1]&quot;, &quot;Program log: Instruction: WriteEncodedVaa&quot;, … &quot;Program ComputeBudget111111111111111111111111111111 success&quot;]</td><td>1</td></tr><tr><td>&quot;1&quot;</td><td>[&quot;Program pythWSnswVUd12oZpeFP8e9CVaEqJg25g1Vtc2biRsT invoke [1]&quot;, &quot;Program log: Instruction: UpdatePriceFeed&quot;, … &quot;Program ComputeBudget111111111111111111111111111111 success&quot;]</td><td>1</td></tr><tr><td>&quot;1&quot;</td><td>[&quot;Program pythWSnswVUd12oZpeFP8e9CVaEqJg25g1Vtc2biRsT invoke [1]&quot;, &quot;Program log: Instruction: UpdatePriceFeed&quot;, … &quot;Program ComputeBudget111111111111111111111111111111 success&quot;]</td><td>1</td></tr></tbody></table></div>"
      ],
      "text/plain": [
       "shape: (1_275, 3)\n",
       "┌────────┬─────────────────────────────────────────────────────────────────────────────────┬───────┐\n",
       "│ status ┆ log_messages                                                                    ┆ count │\n",
       "│ ---    ┆ ---                                                                             ┆ ---   │\n",
       "│ str    ┆ list[str]                                                                       ┆ u32   │\n",
       "╞════════╪═════════════════════════════════════════════════════════════════════════════════╪═══════╡\n",
       "│ 0      ┆ [\"Program ComputeBudget111111111111111111111111111111 invoke [1]\", \"Program     ┆ 702   │\n",
       "│        ┆ ComputeBudget111111111111111111111111111111 success\", … \"Program                ┆       │\n",
       "│        ┆ ZETAxsqBRek56DhiGXrn75yj2NHU3aYUnxvHXpkf3aD failed: custom …                    ┆       │\n",
       "│ 1      ┆ [\"Program 11111111111111111111111111111111 invoke [1]\", \"Program                ┆ 410   │\n",
       "│        ┆ 11111111111111111111111111111111 success\", … \"Program                           ┆       │\n",
       "│        ┆ ComputeBudget111111111111111111111111111111 success\"]                           ┆       │\n",
       "│ 0      ┆ [\"Program pythWSnswVUd12oZpeFP8e9CVaEqJg25g1Vtc2biRsT invoke [1]\", \"Program     ┆ 134   │\n",
       "│        ┆ log: Instruction: UpdatePriceFeed\", … \"Program                                  ┆       │\n",
       "│        ┆ pythWSnswVUd12oZpeFP8e9CVaEqJg25g1Vtc2biRsT failed: custom program error: 0x1…  ┆       │\n",
       "│ 1      ┆ [\"Program HDwcJBJXjL9FpJ7UBsYBtaDjsBUhuLCUYoz3zr8SWWaQ invoke [1]\", \"Program    ┆ 82    │\n",
       "│        ┆ log: Instruction: CloseEncodedVaa\", … \"Program                                  ┆       │\n",
       "│        ┆ ComputeBudget111111111111111111111111111111 success\"]                           ┆       │\n",
       "│ 0      ┆ [\"Program HDwcJBJXjL9FpJ7UBsYBtaDjsBUhuLCUYoz3zr8SWWaQ invoke [1]\", \"Program    ┆ 82    │\n",
       "│        ┆ log: Instruction: WriteEncodedVaa\", … \"Program                                  ┆       │\n",
       "│        ┆ HDwcJBJXjL9FpJ7UBsYBtaDjsBUhuLCUYoz3zr8SWWaQ failed: custom program error: 0…   ┆       │\n",
       "│ …      ┆ …                                                                               ┆ …     │\n",
       "│ 1      ┆ [\"Program pythWSnswVUd12oZpeFP8e9CVaEqJg25g1Vtc2biRsT invoke [1]\", \"Program     ┆ 1     │\n",
       "│        ┆ log: Instruction: UpdatePriceFeed\", … \"Program                                  ┆       │\n",
       "│        ┆ ComputeBudget111111111111111111111111111111 success\"]                           ┆       │\n",
       "│ 1      ┆ [\"Program HDwcJBJXjL9FpJ7UBsYBtaDjsBUhuLCUYoz3zr8SWWaQ invoke [1]\", \"Program    ┆ 1     │\n",
       "│        ┆ log: Instruction: WriteEncodedVaa\", … \"Program                                  ┆       │\n",
       "│        ┆ ComputeBudget111111111111111111111111111111 success\"]                           ┆       │\n",
       "│ 1      ┆ [\"Program HDwcJBJXjL9FpJ7UBsYBtaDjsBUhuLCUYoz3zr8SWWaQ invoke [1]\", \"Program    ┆ 1     │\n",
       "│        ┆ log: Instruction: WriteEncodedVaa\", … \"Program                                  ┆       │\n",
       "│        ┆ ComputeBudget111111111111111111111111111111 success\"]                           ┆       │\n",
       "│ 1      ┆ [\"Program pythWSnswVUd12oZpeFP8e9CVaEqJg25g1Vtc2biRsT invoke [1]\", \"Program     ┆ 1     │\n",
       "│        ┆ log: Instruction: UpdatePriceFeed\", … \"Program                                  ┆       │\n",
       "│        ┆ ComputeBudget111111111111111111111111111111 success\"]                           ┆       │\n",
       "│ 1      ┆ [\"Program pythWSnswVUd12oZpeFP8e9CVaEqJg25g1Vtc2biRsT invoke [1]\", \"Program     ┆ 1     │\n",
       "│        ┆ log: Instruction: UpdatePriceFeed\", … \"Program                                  ┆       │\n",
       "│        ┆ ComputeBudget111111111111111111111111111111 success\"]                           ┆       │\n",
       "└────────┴─────────────────────────────────────────────────────────────────────────────────┴───────┘"
      ]
     },
     "execution_count": 6,
     "metadata": {},
     "output_type": "execute_result"
    }
   ],
   "source": [
    "df.group_by('status', 'log_messages').agg(\n",
    "    pl.len().alias('count')).sort(by='count', descending=True)"
   ]
  },
  {
   "cell_type": "code",
   "execution_count": 7,
   "metadata": {},
   "outputs": [
    {
     "data": {
      "text/html": [
       "<div><style>\n",
       ".dataframe > thead > tr,\n",
       ".dataframe > tbody > tr {\n",
       "  text-align: right;\n",
       "  white-space: pre-wrap;\n",
       "}\n",
       "</style>\n",
       "<small>shape: (10, 3)</small><table border=\"1\" class=\"dataframe\"><thead><tr><th>block_slot</th><th>status</th><th>count</th></tr><tr><td>i64</td><td>str</td><td>u32</td></tr></thead><tbody><tr><td>282899126</td><td>&quot;0&quot;</td><td>127</td></tr><tr><td>282899186</td><td>&quot;0&quot;</td><td>93</td></tr><tr><td>282899763</td><td>&quot;0&quot;</td><td>71</td></tr><tr><td>282899519</td><td>&quot;0&quot;</td><td>62</td></tr><tr><td>282899762</td><td>&quot;0&quot;</td><td>44</td></tr><tr><td>282899963</td><td>&quot;0&quot;</td><td>41</td></tr><tr><td>282899527</td><td>&quot;0&quot;</td><td>37</td></tr><tr><td>282899038</td><td>&quot;0&quot;</td><td>32</td></tr><tr><td>282899967</td><td>&quot;0&quot;</td><td>31</td></tr><tr><td>282899127</td><td>&quot;0&quot;</td><td>28</td></tr></tbody></table></div>"
      ],
      "text/plain": [
       "shape: (10, 3)\n",
       "┌────────────┬────────┬───────┐\n",
       "│ block_slot ┆ status ┆ count │\n",
       "│ ---        ┆ ---    ┆ ---   │\n",
       "│ i64        ┆ str    ┆ u32   │\n",
       "╞════════════╪════════╪═══════╡\n",
       "│ 282899126  ┆ 0      ┆ 127   │\n",
       "│ 282899186  ┆ 0      ┆ 93    │\n",
       "│ 282899763  ┆ 0      ┆ 71    │\n",
       "│ 282899519  ┆ 0      ┆ 62    │\n",
       "│ 282899762  ┆ 0      ┆ 44    │\n",
       "│ 282899963  ┆ 0      ┆ 41    │\n",
       "│ 282899527  ┆ 0      ┆ 37    │\n",
       "│ 282899038  ┆ 0      ┆ 32    │\n",
       "│ 282899967  ┆ 0      ┆ 31    │\n",
       "│ 282899127  ┆ 0      ┆ 28    │\n",
       "└────────────┴────────┴───────┘"
      ]
     },
     "execution_count": 7,
     "metadata": {},
     "output_type": "execute_result"
    }
   ],
   "source": [
    "# blocks with highest error rates\n",
    "df.group_by('block_slot', 'status').agg(pl.len().alias('count')).sort(\n",
    "    by='count', descending=True).filter(pl.col('status') == \"0\").head(10)"
   ]
  },
  {
   "cell_type": "code",
   "execution_count": 8,
   "metadata": {},
   "outputs": [
    {
     "data": {
      "text/html": [
       "<div><style>\n",
       ".dataframe > thead > tr,\n",
       ".dataframe > tbody > tr {\n",
       "  text-align: right;\n",
       "  white-space: pre-wrap;\n",
       "}\n",
       "</style>\n",
       "<small>shape: (10, 3)</small><table border=\"1\" class=\"dataframe\"><thead><tr><th>block_slot</th><th>status</th><th>count</th></tr><tr><td>i64</td><td>str</td><td>u32</td></tr></thead><tbody><tr><td>282899246</td><td>&quot;1&quot;</td><td>36</td></tr><tr><td>282899082</td><td>&quot;1&quot;</td><td>27</td></tr><tr><td>282899583</td><td>&quot;1&quot;</td><td>27</td></tr><tr><td>282899186</td><td>&quot;1&quot;</td><td>24</td></tr><tr><td>282899123</td><td>&quot;1&quot;</td><td>24</td></tr><tr><td>282899967</td><td>&quot;1&quot;</td><td>21</td></tr><tr><td>282899886</td><td>&quot;1&quot;</td><td>20</td></tr><tr><td>282899219</td><td>&quot;1&quot;</td><td>20</td></tr><tr><td>282899417</td><td>&quot;1&quot;</td><td>20</td></tr><tr><td>282899435</td><td>&quot;1&quot;</td><td>20</td></tr></tbody></table></div>"
      ],
      "text/plain": [
       "shape: (10, 3)\n",
       "┌────────────┬────────┬───────┐\n",
       "│ block_slot ┆ status ┆ count │\n",
       "│ ---        ┆ ---    ┆ ---   │\n",
       "│ i64        ┆ str    ┆ u32   │\n",
       "╞════════════╪════════╪═══════╡\n",
       "│ 282899246  ┆ 1      ┆ 36    │\n",
       "│ 282899082  ┆ 1      ┆ 27    │\n",
       "│ 282899583  ┆ 1      ┆ 27    │\n",
       "│ 282899186  ┆ 1      ┆ 24    │\n",
       "│ 282899123  ┆ 1      ┆ 24    │\n",
       "│ 282899967  ┆ 1      ┆ 21    │\n",
       "│ 282899886  ┆ 1      ┆ 20    │\n",
       "│ 282899219  ┆ 1      ┆ 20    │\n",
       "│ 282899417  ┆ 1      ┆ 20    │\n",
       "│ 282899435  ┆ 1      ┆ 20    │\n",
       "└────────────┴────────┴───────┘"
      ]
     },
     "execution_count": 8,
     "metadata": {},
     "output_type": "execute_result"
    }
   ],
   "source": [
    "df.group_by('block_slot', 'status').agg(pl.len().alias('count')).sort(\n",
    "    by='count', descending=True).filter(pl.col('status') == \"1\").head(10)"
   ]
  },
  {
   "cell_type": "markdown",
   "metadata": {},
   "source": [
    "### What does example log messages look like?"
   ]
  },
  {
   "cell_type": "code",
   "execution_count": 9,
   "metadata": {},
   "outputs": [],
   "source": [
    "# only has successes\n",
    "high_sucess_block = df.filter(pl.col('block_slot') == 282899246).group_by(\n",
    "    'block_slot', 'status').agg(pl.len().alias('count')).sort(by='count', descending=True)"
   ]
  },
  {
   "cell_type": "code",
   "execution_count": 10,
   "metadata": {},
   "outputs": [
    {
     "data": {
      "text/html": [
       "<div><style>\n",
       ".dataframe > thead > tr,\n",
       ".dataframe > tbody > tr {\n",
       "  text-align: right;\n",
       "  white-space: pre-wrap;\n",
       "}\n",
       "</style>\n",
       "<small>shape: (1, 3)</small><table border=\"1\" class=\"dataframe\"><thead><tr><th>block_slot</th><th>status</th><th>count</th></tr><tr><td>i64</td><td>str</td><td>u32</td></tr></thead><tbody><tr><td>282899246</td><td>&quot;1&quot;</td><td>36</td></tr></tbody></table></div>"
      ],
      "text/plain": [
       "shape: (1, 3)\n",
       "┌────────────┬────────┬───────┐\n",
       "│ block_slot ┆ status ┆ count │\n",
       "│ ---        ┆ ---    ┆ ---   │\n",
       "│ i64        ┆ str    ┆ u32   │\n",
       "╞════════════╪════════╪═══════╡\n",
       "│ 282899246  ┆ 1      ┆ 36    │\n",
       "└────────────┴────────┴───────┘"
      ]
     },
     "execution_count": 10,
     "metadata": {},
     "output_type": "execute_result"
    }
   ],
   "source": [
    "high_sucess_block"
   ]
  },
  {
   "cell_type": "code",
   "execution_count": 11,
   "metadata": {},
   "outputs": [],
   "source": [
    "success_df = df.filter(pl.col('block_slot') == 282899246)"
   ]
  },
  {
   "cell_type": "code",
   "execution_count": 12,
   "metadata": {},
   "outputs": [
    {
     "data": {
      "text/html": [
       "<div><style>\n",
       ".dataframe > thead > tr,\n",
       ".dataframe > tbody > tr {\n",
       "  text-align: right;\n",
       "  white-space: pre-wrap;\n",
       "}\n",
       "</style>\n",
       "<small>shape: (36, 2)</small><table border=\"1\" class=\"dataframe\"><thead><tr><th>log_messages</th><th>count</th></tr><tr><td>list[str]</td><td>u32</td></tr></thead><tbody><tr><td>[&quot;Program ComputeBudget111111111111111111111111111111 invoke [1]&quot;, &quot;Program ComputeBudget111111111111111111111111111111 success&quot;, … &quot;Program ZETAxsqBRek56DhiGXrn75yj2NHU3aYUnxvHXpkf3aD success&quot;]</td><td>1</td></tr><tr><td>[&quot;Program ComputeBudget111111111111111111111111111111 invoke [1]&quot;, &quot;Program ComputeBudget111111111111111111111111111111 success&quot;, … &quot;Program ZETAxsqBRek56DhiGXrn75yj2NHU3aYUnxvHXpkf3aD success&quot;]</td><td>1</td></tr><tr><td>[&quot;Program ComputeBudget111111111111111111111111111111 invoke [1]&quot;, &quot;Program ComputeBudget111111111111111111111111111111 success&quot;, … &quot;Program ZETAxsqBRek56DhiGXrn75yj2NHU3aYUnxvHXpkf3aD success&quot;]</td><td>1</td></tr><tr><td>[&quot;Program ComputeBudget111111111111111111111111111111 invoke [1]&quot;, &quot;Program ComputeBudget111111111111111111111111111111 success&quot;, … &quot;Program ZETAxsqBRek56DhiGXrn75yj2NHU3aYUnxvHXpkf3aD success&quot;]</td><td>1</td></tr><tr><td>[&quot;Program ComputeBudget111111111111111111111111111111 invoke [1]&quot;, &quot;Program ComputeBudget111111111111111111111111111111 success&quot;, … &quot;Program ZETAxsqBRek56DhiGXrn75yj2NHU3aYUnxvHXpkf3aD success&quot;]</td><td>1</td></tr><tr><td>&hellip;</td><td>&hellip;</td></tr><tr><td>[&quot;Program pythWSnswVUd12oZpeFP8e9CVaEqJg25g1Vtc2biRsT invoke [1]&quot;, &quot;Program log: Instruction: UpdatePriceFeed&quot;, … &quot;Program ComputeBudget111111111111111111111111111111 success&quot;]</td><td>1</td></tr><tr><td>[&quot;Program ComputeBudget111111111111111111111111111111 invoke [1]&quot;, &quot;Program ComputeBudget111111111111111111111111111111 success&quot;, … &quot;Program ZETAxsqBRek56DhiGXrn75yj2NHU3aYUnxvHXpkf3aD success&quot;]</td><td>1</td></tr><tr><td>[&quot;Program ComputeBudget111111111111111111111111111111 invoke [1]&quot;, &quot;Program ComputeBudget111111111111111111111111111111 success&quot;, … &quot;Program ZETAxsqBRek56DhiGXrn75yj2NHU3aYUnxvHXpkf3aD success&quot;]</td><td>1</td></tr><tr><td>[&quot;Program pythWSnswVUd12oZpeFP8e9CVaEqJg25g1Vtc2biRsT invoke [1]&quot;, &quot;Program log: Instruction: UpdatePriceFeed&quot;, … &quot;Program ComputeBudget111111111111111111111111111111 success&quot;]</td><td>1</td></tr><tr><td>[&quot;Program pythWSnswVUd12oZpeFP8e9CVaEqJg25g1Vtc2biRsT invoke [1]&quot;, &quot;Program log: Instruction: UpdatePriceFeed&quot;, … &quot;Program ComputeBudget111111111111111111111111111111 success&quot;]</td><td>1</td></tr></tbody></table></div>"
      ],
      "text/plain": [
       "shape: (36, 2)\n",
       "┌───────────────────────────────────────────────────────────────────────────────────────┬───────┐\n",
       "│ log_messages                                                                          ┆ count │\n",
       "│ ---                                                                                   ┆ ---   │\n",
       "│ list[str]                                                                             ┆ u32   │\n",
       "╞═══════════════════════════════════════════════════════════════════════════════════════╪═══════╡\n",
       "│ [\"Program ComputeBudget111111111111111111111111111111 invoke [1]\", \"Program           ┆ 1     │\n",
       "│ ComputeBudget111111111111111111111111111111 success\", … \"Program                      ┆       │\n",
       "│ ZETAxsqBRek56DhiGXrn75yj2NHU3aYUnxvHXpkf3aD success\"]                                 ┆       │\n",
       "│ [\"Program ComputeBudget111111111111111111111111111111 invoke [1]\", \"Program           ┆ 1     │\n",
       "│ ComputeBudget111111111111111111111111111111 success\", … \"Program                      ┆       │\n",
       "│ ZETAxsqBRek56DhiGXrn75yj2NHU3aYUnxvHXpkf3aD success\"]                                 ┆       │\n",
       "│ [\"Program ComputeBudget111111111111111111111111111111 invoke [1]\", \"Program           ┆ 1     │\n",
       "│ ComputeBudget111111111111111111111111111111 success\", … \"Program                      ┆       │\n",
       "│ ZETAxsqBRek56DhiGXrn75yj2NHU3aYUnxvHXpkf3aD success\"]                                 ┆       │\n",
       "│ [\"Program ComputeBudget111111111111111111111111111111 invoke [1]\", \"Program           ┆ 1     │\n",
       "│ ComputeBudget111111111111111111111111111111 success\", … \"Program                      ┆       │\n",
       "│ ZETAxsqBRek56DhiGXrn75yj2NHU3aYUnxvHXpkf3aD success\"]                                 ┆       │\n",
       "│ [\"Program ComputeBudget111111111111111111111111111111 invoke [1]\", \"Program           ┆ 1     │\n",
       "│ ComputeBudget111111111111111111111111111111 success\", … \"Program                      ┆       │\n",
       "│ ZETAxsqBRek56DhiGXrn75yj2NHU3aYUnxvHXpkf3aD success\"]                                 ┆       │\n",
       "│ …                                                                                     ┆ …     │\n",
       "│ [\"Program pythWSnswVUd12oZpeFP8e9CVaEqJg25g1Vtc2biRsT invoke [1]\", \"Program log:      ┆ 1     │\n",
       "│ Instruction: UpdatePriceFeed\", … \"Program ComputeBudget111111111111111111111111111111 ┆       │\n",
       "│ success\"]                                                                             ┆       │\n",
       "│ [\"Program ComputeBudget111111111111111111111111111111 invoke [1]\", \"Program           ┆ 1     │\n",
       "│ ComputeBudget111111111111111111111111111111 success\", … \"Program                      ┆       │\n",
       "│ ZETAxsqBRek56DhiGXrn75yj2NHU3aYUnxvHXpkf3aD success\"]                                 ┆       │\n",
       "│ [\"Program ComputeBudget111111111111111111111111111111 invoke [1]\", \"Program           ┆ 1     │\n",
       "│ ComputeBudget111111111111111111111111111111 success\", … \"Program                      ┆       │\n",
       "│ ZETAxsqBRek56DhiGXrn75yj2NHU3aYUnxvHXpkf3aD success\"]                                 ┆       │\n",
       "│ [\"Program pythWSnswVUd12oZpeFP8e9CVaEqJg25g1Vtc2biRsT invoke [1]\", \"Program log:      ┆ 1     │\n",
       "│ Instruction: UpdatePriceFeed\", … \"Program ComputeBudget111111111111111111111111111111 ┆       │\n",
       "│ success\"]                                                                             ┆       │\n",
       "│ [\"Program pythWSnswVUd12oZpeFP8e9CVaEqJg25g1Vtc2biRsT invoke [1]\", \"Program log:      ┆ 1     │\n",
       "│ Instruction: UpdatePriceFeed\", … \"Program ComputeBudget111111111111111111111111111111 ┆       │\n",
       "│ success\"]                                                                             ┆       │\n",
       "└───────────────────────────────────────────────────────────────────────────────────────┴───────┘"
      ]
     },
     "execution_count": 12,
     "metadata": {},
     "output_type": "execute_result"
    }
   ],
   "source": [
    "success_df.group_by('log_messages').agg(\n",
    "    pl.len().alias('count')).sort(by='count', descending=True)"
   ]
  },
  {
   "cell_type": "code",
   "execution_count": 13,
   "metadata": {},
   "outputs": [
    {
     "data": {
      "text/plain": [
       "[{'index': 209,\n",
       "  'log_messages': ['Program ComputeBudget111111111111111111111111111111 invoke [1]',\n",
       "   'Program ComputeBudget111111111111111111111111111111 success',\n",
       "   'Program ZETAxsqBRek56DhiGXrn75yj2NHU3aYUnxvHXpkf3aD invoke [1]',\n",
       "   'Program log: Instruction: UpdatePricingV2',\n",
       "   'Program ZETAxsqBRek56DhiGXrn75yj2NHU3aYUnxvHXpkf3aD consumed 20398 of 199850 compute units',\n",
       "   'Program ZETAxsqBRek56DhiGXrn75yj2NHU3aYUnxvHXpkf3aD success']},\n",
       " {'index': 810,\n",
       "  'log_messages': ['Program pythWSnswVUd12oZpeFP8e9CVaEqJg25g1Vtc2biRsT invoke [1]',\n",
       "   'Program log: Instruction: UpdatePriceFeed',\n",
       "   'Program rec5EKMGg6MxZYaMdyBfgwp4d5rB9T1VQH5pJv5LtFJ invoke [2]',\n",
       "   'Program log: Instruction: PostUpdate',\n",
       "   'Program 11111111111111111111111111111111 invoke [3]',\n",
       "   'Program 11111111111111111111111111111111 success',\n",
       "   'Program rec5EKMGg6MxZYaMdyBfgwp4d5rB9T1VQH5pJv5LtFJ consumed 26779 of 68950 compute units',\n",
       "   'Program rec5EKMGg6MxZYaMdyBfgwp4d5rB9T1VQH5pJv5LtFJ success',\n",
       "   'Program pythWSnswVUd12oZpeFP8e9CVaEqJg25g1Vtc2biRsT consumed 43829 of 85000 compute units',\n",
       "   'Program pythWSnswVUd12oZpeFP8e9CVaEqJg25g1Vtc2biRsT success',\n",
       "   'Program HDwcJBJXjL9FpJ7UBsYBtaDjsBUhuLCUYoz3zr8SWWaQ invoke [1]',\n",
       "   'Program log: Instruction: CloseEncodedVaa',\n",
       "   'Program HDwcJBJXjL9FpJ7UBsYBtaDjsBUhuLCUYoz3zr8SWWaQ consumed 2559 of 41171 compute units',\n",
       "   'Program HDwcJBJXjL9FpJ7UBsYBtaDjsBUhuLCUYoz3zr8SWWaQ success',\n",
       "   'Program ComputeBudget111111111111111111111111111111 invoke [1]',\n",
       "   'Program ComputeBudget111111111111111111111111111111 success']},\n",
       " {'index': 267,\n",
       "  'log_messages': ['Program pythWSnswVUd12oZpeFP8e9CVaEqJg25g1Vtc2biRsT invoke [1]',\n",
       "   'Program log: Instruction: UpdatePriceFeed',\n",
       "   'Program rec5EKMGg6MxZYaMdyBfgwp4d5rB9T1VQH5pJv5LtFJ invoke [2]',\n",
       "   'Program log: Instruction: PostUpdate',\n",
       "   'Program 11111111111111111111111111111111 invoke [3]',\n",
       "   'Program 11111111111111111111111111111111 success',\n",
       "   'Program rec5EKMGg6MxZYaMdyBfgwp4d5rB9T1VQH5pJv5LtFJ consumed 26767 of 68950 compute units',\n",
       "   'Program rec5EKMGg6MxZYaMdyBfgwp4d5rB9T1VQH5pJv5LtFJ success',\n",
       "   'Program pythWSnswVUd12oZpeFP8e9CVaEqJg25g1Vtc2biRsT consumed 43817 of 85000 compute units',\n",
       "   'Program pythWSnswVUd12oZpeFP8e9CVaEqJg25g1Vtc2biRsT success',\n",
       "   'Program HDwcJBJXjL9FpJ7UBsYBtaDjsBUhuLCUYoz3zr8SWWaQ invoke [1]',\n",
       "   'Program log: Instruction: CloseEncodedVaa',\n",
       "   'Program HDwcJBJXjL9FpJ7UBsYBtaDjsBUhuLCUYoz3zr8SWWaQ consumed 2559 of 41183 compute units',\n",
       "   'Program HDwcJBJXjL9FpJ7UBsYBtaDjsBUhuLCUYoz3zr8SWWaQ success',\n",
       "   'Program ComputeBudget111111111111111111111111111111 invoke [1]',\n",
       "   'Program ComputeBudget111111111111111111111111111111 success']},\n",
       " {'index': 229,\n",
       "  'log_messages': ['Program ComputeBudget111111111111111111111111111111 invoke [1]',\n",
       "   'Program ComputeBudget111111111111111111111111111111 success',\n",
       "   'Program ZETAxsqBRek56DhiGXrn75yj2NHU3aYUnxvHXpkf3aD invoke [1]',\n",
       "   'Program log: Instruction: UpdatePricingV2',\n",
       "   'Program ZETAxsqBRek56DhiGXrn75yj2NHU3aYUnxvHXpkf3aD consumed 19726 of 199850 compute units',\n",
       "   'Program ZETAxsqBRek56DhiGXrn75yj2NHU3aYUnxvHXpkf3aD success']},\n",
       " {'index': 230,\n",
       "  'log_messages': ['Program ComputeBudget111111111111111111111111111111 invoke [1]',\n",
       "   'Program ComputeBudget111111111111111111111111111111 success',\n",
       "   'Program ZETAxsqBRek56DhiGXrn75yj2NHU3aYUnxvHXpkf3aD invoke [1]',\n",
       "   'Program log: Instruction: UpdatePricingV2',\n",
       "   'Program ZETAxsqBRek56DhiGXrn75yj2NHU3aYUnxvHXpkf3aD consumed 19164 of 199850 compute units',\n",
       "   'Program ZETAxsqBRek56DhiGXrn75yj2NHU3aYUnxvHXpkf3aD success']},\n",
       " {'index': 407,\n",
       "  'log_messages': ['Program pythWSnswVUd12oZpeFP8e9CVaEqJg25g1Vtc2biRsT invoke [1]',\n",
       "   'Program log: Instruction: UpdatePriceFeed',\n",
       "   'Program rec5EKMGg6MxZYaMdyBfgwp4d5rB9T1VQH5pJv5LtFJ invoke [2]',\n",
       "   'Program log: Instruction: PostUpdate',\n",
       "   'Program 11111111111111111111111111111111 invoke [3]',\n",
       "   'Program 11111111111111111111111111111111 success',\n",
       "   'Program rec5EKMGg6MxZYaMdyBfgwp4d5rB9T1VQH5pJv5LtFJ consumed 26764 of 67450 compute units',\n",
       "   'Program rec5EKMGg6MxZYaMdyBfgwp4d5rB9T1VQH5pJv5LtFJ success',\n",
       "   'Program pythWSnswVUd12oZpeFP8e9CVaEqJg25g1Vtc2biRsT consumed 45314 of 85000 compute units',\n",
       "   'Program pythWSnswVUd12oZpeFP8e9CVaEqJg25g1Vtc2biRsT success',\n",
       "   'Program HDwcJBJXjL9FpJ7UBsYBtaDjsBUhuLCUYoz3zr8SWWaQ invoke [1]',\n",
       "   'Program log: Instruction: CloseEncodedVaa',\n",
       "   'Program HDwcJBJXjL9FpJ7UBsYBtaDjsBUhuLCUYoz3zr8SWWaQ consumed 2559 of 39686 compute units',\n",
       "   'Program HDwcJBJXjL9FpJ7UBsYBtaDjsBUhuLCUYoz3zr8SWWaQ success',\n",
       "   'Program ComputeBudget111111111111111111111111111111 invoke [1]',\n",
       "   'Program ComputeBudget111111111111111111111111111111 success']},\n",
       " {'index': 809,\n",
       "  'log_messages': ['Program pythWSnswVUd12oZpeFP8e9CVaEqJg25g1Vtc2biRsT invoke [1]',\n",
       "   'Program log: Instruction: UpdatePriceFeed',\n",
       "   'Program pythWSnswVUd12oZpeFP8e9CVaEqJg25g1Vtc2biRsT consumed 10547 of 110000 compute units',\n",
       "   'Program pythWSnswVUd12oZpeFP8e9CVaEqJg25g1Vtc2biRsT success',\n",
       "   'Program pythWSnswVUd12oZpeFP8e9CVaEqJg25g1Vtc2biRsT invoke [1]',\n",
       "   'Program log: Instruction: UpdatePriceFeed',\n",
       "   'Program rec5EKMGg6MxZYaMdyBfgwp4d5rB9T1VQH5pJv5LtFJ invoke [2]',\n",
       "   'Program log: Instruction: PostUpdate',\n",
       "   'Program 11111111111111111111111111111111 invoke [3]',\n",
       "   'Program 11111111111111111111111111111111 success',\n",
       "   'Program rec5EKMGg6MxZYaMdyBfgwp4d5rB9T1VQH5pJv5LtFJ consumed 26779 of 83401 compute units',\n",
       "   'Program rec5EKMGg6MxZYaMdyBfgwp4d5rB9T1VQH5pJv5LtFJ success',\n",
       "   'Program pythWSnswVUd12oZpeFP8e9CVaEqJg25g1Vtc2biRsT consumed 43831 of 99453 compute units',\n",
       "   'Program pythWSnswVUd12oZpeFP8e9CVaEqJg25g1Vtc2biRsT success',\n",
       "   'Program ComputeBudget111111111111111111111111111111 invoke [1]',\n",
       "   'Program ComputeBudget111111111111111111111111111111 success']},\n",
       " {'index': 265,\n",
       "  'log_messages': ['Program pythWSnswVUd12oZpeFP8e9CVaEqJg25g1Vtc2biRsT invoke [1]',\n",
       "   'Program log: Instruction: UpdatePriceFeed',\n",
       "   'Program rec5EKMGg6MxZYaMdyBfgwp4d5rB9T1VQH5pJv5LtFJ invoke [2]',\n",
       "   'Program log: Instruction: PostUpdate',\n",
       "   'Program 11111111111111111111111111111111 invoke [3]',\n",
       "   'Program 11111111111111111111111111111111 success',\n",
       "   'Program rec5EKMGg6MxZYaMdyBfgwp4d5rB9T1VQH5pJv5LtFJ consumed 26761 of 92448 compute units',\n",
       "   'Program rec5EKMGg6MxZYaMdyBfgwp4d5rB9T1VQH5pJv5LtFJ success',\n",
       "   'Program pythWSnswVUd12oZpeFP8e9CVaEqJg25g1Vtc2biRsT consumed 45313 of 110000 compute units',\n",
       "   'Program pythWSnswVUd12oZpeFP8e9CVaEqJg25g1Vtc2biRsT success',\n",
       "   'Program pythWSnswVUd12oZpeFP8e9CVaEqJg25g1Vtc2biRsT invoke [1]',\n",
       "   'Program log: Instruction: UpdatePriceFeed',\n",
       "   'Program rec5EKMGg6MxZYaMdyBfgwp4d5rB9T1VQH5pJv5LtFJ invoke [2]',\n",
       "   'Program log: Instruction: PostUpdate',\n",
       "   'Program 11111111111111111111111111111111 invoke [3]',\n",
       "   'Program 11111111111111111111111111111111 success',\n",
       "   'Program rec5EKMGg6MxZYaMdyBfgwp4d5rB9T1VQH5pJv5LtFJ consumed 26770 of 44135 compute units',\n",
       "   'Program rec5EKMGg6MxZYaMdyBfgwp4d5rB9T1VQH5pJv5LtFJ success',\n",
       "   'Program pythWSnswVUd12oZpeFP8e9CVaEqJg25g1Vtc2biRsT consumed 48322 of 64687 compute units',\n",
       "   'Program pythWSnswVUd12oZpeFP8e9CVaEqJg25g1Vtc2biRsT success',\n",
       "   'Program ComputeBudget111111111111111111111111111111 invoke [1]',\n",
       "   'Program ComputeBudget111111111111111111111111111111 success']},\n",
       " {'index': 927,\n",
       "  'log_messages': ['Program pythWSnswVUd12oZpeFP8e9CVaEqJg25g1Vtc2biRsT invoke [1]',\n",
       "   'Program log: Instruction: UpdatePriceFeed',\n",
       "   'Program rec5EKMGg6MxZYaMdyBfgwp4d5rB9T1VQH5pJv5LtFJ invoke [2]',\n",
       "   'Program log: Instruction: PostUpdate',\n",
       "   'Program 11111111111111111111111111111111 invoke [3]',\n",
       "   'Program 11111111111111111111111111111111 success',\n",
       "   'Program rec5EKMGg6MxZYaMdyBfgwp4d5rB9T1VQH5pJv5LtFJ consumed 34270 of 93948 compute units',\n",
       "   'Program rec5EKMGg6MxZYaMdyBfgwp4d5rB9T1VQH5pJv5LtFJ success',\n",
       "   'Program pythWSnswVUd12oZpeFP8e9CVaEqJg25g1Vtc2biRsT consumed 51322 of 110000 compute units',\n",
       "   'Program pythWSnswVUd12oZpeFP8e9CVaEqJg25g1Vtc2biRsT success',\n",
       "   'Program pythWSnswVUd12oZpeFP8e9CVaEqJg25g1Vtc2biRsT invoke [1]',\n",
       "   'Program log: Instruction: UpdatePriceFeed',\n",
       "   'Program rec5EKMGg6MxZYaMdyBfgwp4d5rB9T1VQH5pJv5LtFJ invoke [2]',\n",
       "   'Program log: Instruction: PostUpdate',\n",
       "   'Program 11111111111111111111111111111111 invoke [3]',\n",
       "   'Program 11111111111111111111111111111111 success',\n",
       "   'Program rec5EKMGg6MxZYaMdyBfgwp4d5rB9T1VQH5pJv5LtFJ consumed 34264 of 41126 compute units',\n",
       "   'Program rec5EKMGg6MxZYaMdyBfgwp4d5rB9T1VQH5pJv5LtFJ success',\n",
       "   'Program pythWSnswVUd12oZpeFP8e9CVaEqJg25g1Vtc2biRsT consumed 52816 of 58678 compute units',\n",
       "   'Program pythWSnswVUd12oZpeFP8e9CVaEqJg25g1Vtc2biRsT success',\n",
       "   'Program ComputeBudget111111111111111111111111111111 invoke [1]',\n",
       "   'Program ComputeBudget111111111111111111111111111111 success']},\n",
       " {'index': 264,\n",
       "  'log_messages': ['Program HDwcJBJXjL9FpJ7UBsYBtaDjsBUhuLCUYoz3zr8SWWaQ invoke [1]',\n",
       "   'Program log: Instruction: WriteEncodedVaa',\n",
       "   'Program HDwcJBJXjL9FpJ7UBsYBtaDjsBUhuLCUYoz3zr8SWWaQ consumed 2693 of 408000 compute units',\n",
       "   'Program HDwcJBJXjL9FpJ7UBsYBtaDjsBUhuLCUYoz3zr8SWWaQ success',\n",
       "   'Program HDwcJBJXjL9FpJ7UBsYBtaDjsBUhuLCUYoz3zr8SWWaQ invoke [1]',\n",
       "   'Program log: Instruction: VerifyEncodedVaaV1',\n",
       "   'Program HDwcJBJXjL9FpJ7UBsYBtaDjsBUhuLCUYoz3zr8SWWaQ consumed 345398 of 405307 compute units',\n",
       "   'Program HDwcJBJXjL9FpJ7UBsYBtaDjsBUhuLCUYoz3zr8SWWaQ success',\n",
       "   'Program pythWSnswVUd12oZpeFP8e9CVaEqJg25g1Vtc2biRsT invoke [1]',\n",
       "   'Program log: Instruction: UpdatePriceFeed',\n",
       "   'Program rec5EKMGg6MxZYaMdyBfgwp4d5rB9T1VQH5pJv5LtFJ invoke [2]',\n",
       "   'Program log: Instruction: PostUpdate',\n",
       "   'Program 11111111111111111111111111111111 invoke [3]',\n",
       "   'Program 11111111111111111111111111111111 success',\n",
       "   'Program rec5EKMGg6MxZYaMdyBfgwp4d5rB9T1VQH5pJv5LtFJ consumed 26767 of 42359 compute units',\n",
       "   'Program rec5EKMGg6MxZYaMdyBfgwp4d5rB9T1VQH5pJv5LtFJ success',\n",
       "   'Program pythWSnswVUd12oZpeFP8e9CVaEqJg25g1Vtc2biRsT consumed 45317 of 59909 compute units',\n",
       "   'Program pythWSnswVUd12oZpeFP8e9CVaEqJg25g1Vtc2biRsT success',\n",
       "   'Program ComputeBudget111111111111111111111111111111 invoke [1]',\n",
       "   'Program ComputeBudget111111111111111111111111111111 success']},\n",
       " {'index': 928,\n",
       "  'log_messages': ['Program pythWSnswVUd12oZpeFP8e9CVaEqJg25g1Vtc2biRsT invoke [1]',\n",
       "   'Program log: Instruction: UpdatePriceFeed',\n",
       "   'Program rec5EKMGg6MxZYaMdyBfgwp4d5rB9T1VQH5pJv5LtFJ invoke [2]',\n",
       "   'Program log: Instruction: PostUpdate',\n",
       "   'Program 11111111111111111111111111111111 invoke [3]',\n",
       "   'Program 11111111111111111111111111111111 success',\n",
       "   'Program rec5EKMGg6MxZYaMdyBfgwp4d5rB9T1VQH5pJv5LtFJ consumed 34273 of 93948 compute units',\n",
       "   'Program rec5EKMGg6MxZYaMdyBfgwp4d5rB9T1VQH5pJv5LtFJ success',\n",
       "   'Program pythWSnswVUd12oZpeFP8e9CVaEqJg25g1Vtc2biRsT consumed 51325 of 110000 compute units',\n",
       "   'Program pythWSnswVUd12oZpeFP8e9CVaEqJg25g1Vtc2biRsT success',\n",
       "   'Program pythWSnswVUd12oZpeFP8e9CVaEqJg25g1Vtc2biRsT invoke [1]',\n",
       "   'Program log: Instruction: UpdatePriceFeed',\n",
       "   'Program rec5EKMGg6MxZYaMdyBfgwp4d5rB9T1VQH5pJv5LtFJ invoke [2]',\n",
       "   'Program log: Instruction: PostUpdate',\n",
       "   'Program 11111111111111111111111111111111 invoke [3]',\n",
       "   'Program 11111111111111111111111111111111 success',\n",
       "   'Program rec5EKMGg6MxZYaMdyBfgwp4d5rB9T1VQH5pJv5LtFJ consumed 34267 of 42623 compute units',\n",
       "   'Program rec5EKMGg6MxZYaMdyBfgwp4d5rB9T1VQH5pJv5LtFJ success',\n",
       "   'Program pythWSnswVUd12oZpeFP8e9CVaEqJg25g1Vtc2biRsT consumed 51319 of 58675 compute units',\n",
       "   'Program pythWSnswVUd12oZpeFP8e9CVaEqJg25g1Vtc2biRsT success',\n",
       "   'Program ComputeBudget111111111111111111111111111111 invoke [1]',\n",
       "   'Program ComputeBudget111111111111111111111111111111 success']},\n",
       " {'index': 952,\n",
       "  'log_messages': ['Program pythWSnswVUd12oZpeFP8e9CVaEqJg25g1Vtc2biRsT invoke [1]',\n",
       "   'Program log: Instruction: UpdatePriceFeed',\n",
       "   'Program rec5EKMGg6MxZYaMdyBfgwp4d5rB9T1VQH5pJv5LtFJ invoke [2]',\n",
       "   'Program log: Instruction: PostUpdate',\n",
       "   'Program 11111111111111111111111111111111 invoke [3]',\n",
       "   'Program 11111111111111111111111111111111 success',\n",
       "   'Program rec5EKMGg6MxZYaMdyBfgwp4d5rB9T1VQH5pJv5LtFJ consumed 28270 of 93948 compute units',\n",
       "   'Program rec5EKMGg6MxZYaMdyBfgwp4d5rB9T1VQH5pJv5LtFJ success',\n",
       "   'Program pythWSnswVUd12oZpeFP8e9CVaEqJg25g1Vtc2biRsT consumed 45322 of 110000 compute units',\n",
       "   'Program pythWSnswVUd12oZpeFP8e9CVaEqJg25g1Vtc2biRsT success',\n",
       "   'Program pythWSnswVUd12oZpeFP8e9CVaEqJg25g1Vtc2biRsT invoke [1]',\n",
       "   'Program log: Instruction: UpdatePriceFeed',\n",
       "   'Program rec5EKMGg6MxZYaMdyBfgwp4d5rB9T1VQH5pJv5LtFJ invoke [2]',\n",
       "   'Program log: Instruction: PostUpdate',\n",
       "   'Program 11111111111111111111111111111111 invoke [3]',\n",
       "   'Program 11111111111111111111111111111111 success',\n",
       "   'Program rec5EKMGg6MxZYaMdyBfgwp4d5rB9T1VQH5pJv5LtFJ consumed 28270 of 47126 compute units',\n",
       "   'Program rec5EKMGg6MxZYaMdyBfgwp4d5rB9T1VQH5pJv5LtFJ success',\n",
       "   'Program pythWSnswVUd12oZpeFP8e9CVaEqJg25g1Vtc2biRsT consumed 46822 of 64678 compute units',\n",
       "   'Program pythWSnswVUd12oZpeFP8e9CVaEqJg25g1Vtc2biRsT success',\n",
       "   'Program ComputeBudget111111111111111111111111111111 invoke [1]',\n",
       "   'Program ComputeBudget111111111111111111111111111111 success']},\n",
       " {'index': 953,\n",
       "  'log_messages': ['Program pythWSnswVUd12oZpeFP8e9CVaEqJg25g1Vtc2biRsT invoke [1]',\n",
       "   'Program log: Instruction: UpdatePriceFeed',\n",
       "   'Program rec5EKMGg6MxZYaMdyBfgwp4d5rB9T1VQH5pJv5LtFJ invoke [2]',\n",
       "   'Program log: Instruction: PostUpdate',\n",
       "   'Program 11111111111111111111111111111111 invoke [3]',\n",
       "   'Program 11111111111111111111111111111111 success',\n",
       "   'Program rec5EKMGg6MxZYaMdyBfgwp4d5rB9T1VQH5pJv5LtFJ consumed 28270 of 90948 compute units',\n",
       "   'Program rec5EKMGg6MxZYaMdyBfgwp4d5rB9T1VQH5pJv5LtFJ success',\n",
       "   'Program pythWSnswVUd12oZpeFP8e9CVaEqJg25g1Vtc2biRsT consumed 48322 of 110000 compute units',\n",
       "   'Program pythWSnswVUd12oZpeFP8e9CVaEqJg25g1Vtc2biRsT success',\n",
       "   'Program pythWSnswVUd12oZpeFP8e9CVaEqJg25g1Vtc2biRsT invoke [1]',\n",
       "   'Program log: Instruction: UpdatePriceFeed',\n",
       "   'Program rec5EKMGg6MxZYaMdyBfgwp4d5rB9T1VQH5pJv5LtFJ invoke [2]',\n",
       "   'Program log: Instruction: PostUpdate',\n",
       "   'Program 11111111111111111111111111111111 invoke [3]',\n",
       "   'Program 11111111111111111111111111111111 success',\n",
       "   'Program rec5EKMGg6MxZYaMdyBfgwp4d5rB9T1VQH5pJv5LtFJ consumed 28270 of 45626 compute units',\n",
       "   'Program rec5EKMGg6MxZYaMdyBfgwp4d5rB9T1VQH5pJv5LtFJ success',\n",
       "   'Program pythWSnswVUd12oZpeFP8e9CVaEqJg25g1Vtc2biRsT consumed 45322 of 61678 compute units',\n",
       "   'Program pythWSnswVUd12oZpeFP8e9CVaEqJg25g1Vtc2biRsT success',\n",
       "   'Program ComputeBudget111111111111111111111111111111 invoke [1]',\n",
       "   'Program ComputeBudget111111111111111111111111111111 success']},\n",
       " {'index': 404,\n",
       "  'log_messages': ['Program HDwcJBJXjL9FpJ7UBsYBtaDjsBUhuLCUYoz3zr8SWWaQ invoke [1]',\n",
       "   'Program log: Instruction: WriteEncodedVaa',\n",
       "   'Program HDwcJBJXjL9FpJ7UBsYBtaDjsBUhuLCUYoz3zr8SWWaQ consumed 2693 of 408000 compute units',\n",
       "   'Program HDwcJBJXjL9FpJ7UBsYBtaDjsBUhuLCUYoz3zr8SWWaQ success',\n",
       "   'Program HDwcJBJXjL9FpJ7UBsYBtaDjsBUhuLCUYoz3zr8SWWaQ invoke [1]',\n",
       "   'Program log: Instruction: VerifyEncodedVaaV1',\n",
       "   'Program HDwcJBJXjL9FpJ7UBsYBtaDjsBUhuLCUYoz3zr8SWWaQ consumed 345398 of 405307 compute units',\n",
       "   'Program HDwcJBJXjL9FpJ7UBsYBtaDjsBUhuLCUYoz3zr8SWWaQ success',\n",
       "   'Program pythWSnswVUd12oZpeFP8e9CVaEqJg25g1Vtc2biRsT invoke [1]',\n",
       "   'Program log: Instruction: UpdatePriceFeed',\n",
       "   'Program rec5EKMGg6MxZYaMdyBfgwp4d5rB9T1VQH5pJv5LtFJ invoke [2]',\n",
       "   'Program log: Instruction: PostUpdate',\n",
       "   'Program 11111111111111111111111111111111 invoke [3]',\n",
       "   'Program 11111111111111111111111111111111 success',\n",
       "   'Program rec5EKMGg6MxZYaMdyBfgwp4d5rB9T1VQH5pJv5LtFJ consumed 26773 of 42359 compute units',\n",
       "   'Program rec5EKMGg6MxZYaMdyBfgwp4d5rB9T1VQH5pJv5LtFJ success',\n",
       "   'Program pythWSnswVUd12oZpeFP8e9CVaEqJg25g1Vtc2biRsT consumed 45323 of 59909 compute units',\n",
       "   'Program pythWSnswVUd12oZpeFP8e9CVaEqJg25g1Vtc2biRsT success',\n",
       "   'Program ComputeBudget111111111111111111111111111111 invoke [1]',\n",
       "   'Program ComputeBudget111111111111111111111111111111 success']},\n",
       " {'index': 926,\n",
       "  'log_messages': ['Program HDwcJBJXjL9FpJ7UBsYBtaDjsBUhuLCUYoz3zr8SWWaQ invoke [1]',\n",
       "   'Program log: Instruction: WriteEncodedVaa',\n",
       "   'Program HDwcJBJXjL9FpJ7UBsYBtaDjsBUhuLCUYoz3zr8SWWaQ consumed 2693 of 408000 compute units',\n",
       "   'Program HDwcJBJXjL9FpJ7UBsYBtaDjsBUhuLCUYoz3zr8SWWaQ success',\n",
       "   'Program HDwcJBJXjL9FpJ7UBsYBtaDjsBUhuLCUYoz3zr8SWWaQ invoke [1]',\n",
       "   'Program log: Instruction: VerifyEncodedVaaV1',\n",
       "   'Program HDwcJBJXjL9FpJ7UBsYBtaDjsBUhuLCUYoz3zr8SWWaQ consumed 345398 of 405307 compute units',\n",
       "   'Program HDwcJBJXjL9FpJ7UBsYBtaDjsBUhuLCUYoz3zr8SWWaQ success',\n",
       "   'Program pythWSnswVUd12oZpeFP8e9CVaEqJg25g1Vtc2biRsT invoke [1]',\n",
       "   'Program log: Instruction: UpdatePriceFeed',\n",
       "   'Program rec5EKMGg6MxZYaMdyBfgwp4d5rB9T1VQH5pJv5LtFJ invoke [2]',\n",
       "   'Program log: Instruction: PostUpdate',\n",
       "   'Program 11111111111111111111111111111111 invoke [3]',\n",
       "   'Program 11111111111111111111111111111111 success',\n",
       "   'Program rec5EKMGg6MxZYaMdyBfgwp4d5rB9T1VQH5pJv5LtFJ consumed 34267 of 37859 compute units',\n",
       "   'Program rec5EKMGg6MxZYaMdyBfgwp4d5rB9T1VQH5pJv5LtFJ success',\n",
       "   'Program pythWSnswVUd12oZpeFP8e9CVaEqJg25g1Vtc2biRsT consumed 57317 of 59909 compute units',\n",
       "   'Program pythWSnswVUd12oZpeFP8e9CVaEqJg25g1Vtc2biRsT success',\n",
       "   'Program ComputeBudget111111111111111111111111111111 invoke [1]',\n",
       "   'Program ComputeBudget111111111111111111111111111111 success']},\n",
       " {'index': 227,\n",
       "  'log_messages': ['Program ComputeBudget111111111111111111111111111111 invoke [1]',\n",
       "   'Program ComputeBudget111111111111111111111111111111 success',\n",
       "   'Program ZETAxsqBRek56DhiGXrn75yj2NHU3aYUnxvHXpkf3aD invoke [1]',\n",
       "   'Program log: Instruction: UpdatePricingV2',\n",
       "   'Program ZETAxsqBRek56DhiGXrn75yj2NHU3aYUnxvHXpkf3aD consumed 22688 of 199850 compute units',\n",
       "   'Program ZETAxsqBRek56DhiGXrn75yj2NHU3aYUnxvHXpkf3aD success']},\n",
       " {'index': 405,\n",
       "  'log_messages': ['Program pythWSnswVUd12oZpeFP8e9CVaEqJg25g1Vtc2biRsT invoke [1]',\n",
       "   'Program log: Instruction: UpdatePriceFeed',\n",
       "   'Program rec5EKMGg6MxZYaMdyBfgwp4d5rB9T1VQH5pJv5LtFJ invoke [2]',\n",
       "   'Program log: Instruction: PostUpdate',\n",
       "   'Program 11111111111111111111111111111111 invoke [3]',\n",
       "   'Program 11111111111111111111111111111111 success',\n",
       "   'Program rec5EKMGg6MxZYaMdyBfgwp4d5rB9T1VQH5pJv5LtFJ consumed 26767 of 90948 compute units',\n",
       "   'Program rec5EKMGg6MxZYaMdyBfgwp4d5rB9T1VQH5pJv5LtFJ success',\n",
       "   'Program pythWSnswVUd12oZpeFP8e9CVaEqJg25g1Vtc2biRsT consumed 46819 of 110000 compute units',\n",
       "   'Program pythWSnswVUd12oZpeFP8e9CVaEqJg25g1Vtc2biRsT success',\n",
       "   'Program pythWSnswVUd12oZpeFP8e9CVaEqJg25g1Vtc2biRsT invoke [1]',\n",
       "   'Program log: Instruction: UpdatePriceFeed',\n",
       "   'Program rec5EKMGg6MxZYaMdyBfgwp4d5rB9T1VQH5pJv5LtFJ invoke [2]',\n",
       "   'Program log: Instruction: PostUpdate',\n",
       "   'Program 11111111111111111111111111111111 invoke [3]',\n",
       "   'Program 11111111111111111111111111111111 success',\n",
       "   'Program rec5EKMGg6MxZYaMdyBfgwp4d5rB9T1VQH5pJv5LtFJ consumed 26776 of 47129 compute units',\n",
       "   'Program rec5EKMGg6MxZYaMdyBfgwp4d5rB9T1VQH5pJv5LtFJ success',\n",
       "   'Program pythWSnswVUd12oZpeFP8e9CVaEqJg25g1Vtc2biRsT consumed 43828 of 63181 compute units',\n",
       "   'Program pythWSnswVUd12oZpeFP8e9CVaEqJg25g1Vtc2biRsT success',\n",
       "   'Program ComputeBudget111111111111111111111111111111 invoke [1]',\n",
       "   'Program ComputeBudget111111111111111111111111111111 success']},\n",
       " {'index': 488,\n",
       "  'log_messages': ['Program ComputeBudget111111111111111111111111111111 invoke [1]',\n",
       "   'Program ComputeBudget111111111111111111111111111111 success',\n",
       "   'Program ZETAxsqBRek56DhiGXrn75yj2NHU3aYUnxvHXpkf3aD invoke [1]',\n",
       "   'Program log: Instruction: UpdatePricingV2',\n",
       "   'Program ZETAxsqBRek56DhiGXrn75yj2NHU3aYUnxvHXpkf3aD consumed 18719 of 199850 compute units',\n",
       "   'Program ZETAxsqBRek56DhiGXrn75yj2NHU3aYUnxvHXpkf3aD success']},\n",
       " {'index': 225,\n",
       "  'log_messages': ['Program ComputeBudget111111111111111111111111111111 invoke [1]',\n",
       "   'Program ComputeBudget111111111111111111111111111111 success',\n",
       "   'Program ZETAxsqBRek56DhiGXrn75yj2NHU3aYUnxvHXpkf3aD invoke [1]',\n",
       "   'Program log: Instruction: UpdatePricingV2',\n",
       "   'Program ZETAxsqBRek56DhiGXrn75yj2NHU3aYUnxvHXpkf3aD consumed 19657 of 199850 compute units',\n",
       "   'Program ZETAxsqBRek56DhiGXrn75yj2NHU3aYUnxvHXpkf3aD success']},\n",
       " {'index': 441,\n",
       "  'log_messages': ['Program pythWSnswVUd12oZpeFP8e9CVaEqJg25g1Vtc2biRsT invoke [1]',\n",
       "   'Program log: Instruction: UpdatePriceFeed',\n",
       "   'Program pythWSnswVUd12oZpeFP8e9CVaEqJg25g1Vtc2biRsT consumed 10547 of 400000 compute units',\n",
       "   'Program pythWSnswVUd12oZpeFP8e9CVaEqJg25g1Vtc2biRsT success',\n",
       "   'Program pythWSnswVUd12oZpeFP8e9CVaEqJg25g1Vtc2biRsT invoke [1]',\n",
       "   'Program log: Instruction: UpdatePriceFeed',\n",
       "   'Program pythWSnswVUd12oZpeFP8e9CVaEqJg25g1Vtc2biRsT consumed 10547 of 389453 compute units',\n",
       "   'Program pythWSnswVUd12oZpeFP8e9CVaEqJg25g1Vtc2biRsT success',\n",
       "   'Program ComputeBudget111111111111111111111111111111 invoke [1]',\n",
       "   'Program ComputeBudget111111111111111111111111111111 success']},\n",
       " {'index': 951,\n",
       "  'log_messages': ['Program HDwcJBJXjL9FpJ7UBsYBtaDjsBUhuLCUYoz3zr8SWWaQ invoke [1]',\n",
       "   'Program log: Instruction: WriteEncodedVaa',\n",
       "   'Program HDwcJBJXjL9FpJ7UBsYBtaDjsBUhuLCUYoz3zr8SWWaQ consumed 2693 of 408000 compute units',\n",
       "   'Program HDwcJBJXjL9FpJ7UBsYBtaDjsBUhuLCUYoz3zr8SWWaQ success',\n",
       "   'Program HDwcJBJXjL9FpJ7UBsYBtaDjsBUhuLCUYoz3zr8SWWaQ invoke [1]',\n",
       "   'Program log: Instruction: VerifyEncodedVaaV1',\n",
       "   'Program HDwcJBJXjL9FpJ7UBsYBtaDjsBUhuLCUYoz3zr8SWWaQ consumed 345398 of 405307 compute units',\n",
       "   'Program HDwcJBJXjL9FpJ7UBsYBtaDjsBUhuLCUYoz3zr8SWWaQ success',\n",
       "   'Program pythWSnswVUd12oZpeFP8e9CVaEqJg25g1Vtc2biRsT invoke [1]',\n",
       "   'Program log: Instruction: UpdatePriceFeed',\n",
       "   'Program rec5EKMGg6MxZYaMdyBfgwp4d5rB9T1VQH5pJv5LtFJ invoke [2]',\n",
       "   'Program log: Instruction: PostUpdate',\n",
       "   'Program 11111111111111111111111111111111 invoke [3]',\n",
       "   'Program 11111111111111111111111111111111 success',\n",
       "   'Program rec5EKMGg6MxZYaMdyBfgwp4d5rB9T1VQH5pJv5LtFJ consumed 28273 of 42359 compute units',\n",
       "   'Program rec5EKMGg6MxZYaMdyBfgwp4d5rB9T1VQH5pJv5LtFJ success',\n",
       "   'Program pythWSnswVUd12oZpeFP8e9CVaEqJg25g1Vtc2biRsT consumed 46823 of 59909 compute units',\n",
       "   'Program pythWSnswVUd12oZpeFP8e9CVaEqJg25g1Vtc2biRsT success',\n",
       "   'Program ComputeBudget111111111111111111111111111111 invoke [1]',\n",
       "   'Program ComputeBudget111111111111111111111111111111 success']},\n",
       " {'index': 232,\n",
       "  'log_messages': ['Program ComputeBudget111111111111111111111111111111 invoke [1]',\n",
       "   'Program ComputeBudget111111111111111111111111111111 success',\n",
       "   'Program ZETAxsqBRek56DhiGXrn75yj2NHU3aYUnxvHXpkf3aD invoke [1]',\n",
       "   'Program log: Instruction: UpdatePricingV2',\n",
       "   'Program ZETAxsqBRek56DhiGXrn75yj2NHU3aYUnxvHXpkf3aD consumed 17588 of 199850 compute units',\n",
       "   'Program ZETAxsqBRek56DhiGXrn75yj2NHU3aYUnxvHXpkf3aD success']},\n",
       " {'index': 194,\n",
       "  'log_messages': ['Program ComputeBudget111111111111111111111111111111 invoke [1]',\n",
       "   'Program ComputeBudget111111111111111111111111111111 success',\n",
       "   'Program ZETAxsqBRek56DhiGXrn75yj2NHU3aYUnxvHXpkf3aD invoke [1]',\n",
       "   'Program log: Instruction: UpdatePricingV2',\n",
       "   'Program ZETAxsqBRek56DhiGXrn75yj2NHU3aYUnxvHXpkf3aD consumed 22168 of 199850 compute units',\n",
       "   'Program ZETAxsqBRek56DhiGXrn75yj2NHU3aYUnxvHXpkf3aD success']},\n",
       " {'index': 192,\n",
       "  'log_messages': ['Program ComputeBudget111111111111111111111111111111 invoke [1]',\n",
       "   'Program ComputeBudget111111111111111111111111111111 success',\n",
       "   'Program ZETAxsqBRek56DhiGXrn75yj2NHU3aYUnxvHXpkf3aD invoke [1]',\n",
       "   'Program log: Instruction: UpdatePricingV2',\n",
       "   'Program ZETAxsqBRek56DhiGXrn75yj2NHU3aYUnxvHXpkf3aD consumed 20957 of 199850 compute units',\n",
       "   'Program ZETAxsqBRek56DhiGXrn75yj2NHU3aYUnxvHXpkf3aD success']},\n",
       " {'index': 234,\n",
       "  'log_messages': ['Program ComputeBudget111111111111111111111111111111 invoke [1]',\n",
       "   'Program ComputeBudget111111111111111111111111111111 success',\n",
       "   'Program ZETAxsqBRek56DhiGXrn75yj2NHU3aYUnxvHXpkf3aD invoke [1]',\n",
       "   'Program log: Instruction: UpdatePricingV2',\n",
       "   'Program ZETAxsqBRek56DhiGXrn75yj2NHU3aYUnxvHXpkf3aD consumed 19161 of 199850 compute units',\n",
       "   'Program ZETAxsqBRek56DhiGXrn75yj2NHU3aYUnxvHXpkf3aD success']},\n",
       " {'index': 226,\n",
       "  'log_messages': ['Program ComputeBudget111111111111111111111111111111 invoke [1]',\n",
       "   'Program ComputeBudget111111111111111111111111111111 success',\n",
       "   'Program ZETAxsqBRek56DhiGXrn75yj2NHU3aYUnxvHXpkf3aD invoke [1]',\n",
       "   'Program log: Instruction: UpdatePricingV2',\n",
       "   'Program ZETAxsqBRek56DhiGXrn75yj2NHU3aYUnxvHXpkf3aD consumed 20123 of 199850 compute units',\n",
       "   'Program ZETAxsqBRek56DhiGXrn75yj2NHU3aYUnxvHXpkf3aD success']},\n",
       " {'index': 266,\n",
       "  'log_messages': ['Program pythWSnswVUd12oZpeFP8e9CVaEqJg25g1Vtc2biRsT invoke [1]',\n",
       "   'Program log: Instruction: UpdatePriceFeed',\n",
       "   'Program rec5EKMGg6MxZYaMdyBfgwp4d5rB9T1VQH5pJv5LtFJ invoke [2]',\n",
       "   'Program log: Instruction: PostUpdate',\n",
       "   'Program 11111111111111111111111111111111 invoke [3]',\n",
       "   'Program 11111111111111111111111111111111 success',\n",
       "   'Program rec5EKMGg6MxZYaMdyBfgwp4d5rB9T1VQH5pJv5LtFJ consumed 26779 of 89448 compute units',\n",
       "   'Program rec5EKMGg6MxZYaMdyBfgwp4d5rB9T1VQH5pJv5LtFJ success',\n",
       "   'Program pythWSnswVUd12oZpeFP8e9CVaEqJg25g1Vtc2biRsT consumed 48331 of 110000 compute units',\n",
       "   'Program pythWSnswVUd12oZpeFP8e9CVaEqJg25g1Vtc2biRsT success',\n",
       "   'Program pythWSnswVUd12oZpeFP8e9CVaEqJg25g1Vtc2biRsT invoke [1]',\n",
       "   'Program log: Instruction: UpdatePriceFeed',\n",
       "   'Program rec5EKMGg6MxZYaMdyBfgwp4d5rB9T1VQH5pJv5LtFJ invoke [2]',\n",
       "   'Program log: Instruction: PostUpdate',\n",
       "   'Program 11111111111111111111111111111111 invoke [3]',\n",
       "   'Program 11111111111111111111111111111111 success',\n",
       "   'Program rec5EKMGg6MxZYaMdyBfgwp4d5rB9T1VQH5pJv5LtFJ consumed 26770 of 45617 compute units',\n",
       "   'Program rec5EKMGg6MxZYaMdyBfgwp4d5rB9T1VQH5pJv5LtFJ success',\n",
       "   'Program pythWSnswVUd12oZpeFP8e9CVaEqJg25g1Vtc2biRsT consumed 43822 of 61669 compute units',\n",
       "   'Program pythWSnswVUd12oZpeFP8e9CVaEqJg25g1Vtc2biRsT success',\n",
       "   'Program ComputeBudget111111111111111111111111111111 invoke [1]',\n",
       "   'Program ComputeBudget111111111111111111111111111111 success']},\n",
       " {'index': 222,\n",
       "  'log_messages': ['Program ComputeBudget111111111111111111111111111111 invoke [1]',\n",
       "   'Program ComputeBudget111111111111111111111111111111 success',\n",
       "   'Program ZETAxsqBRek56DhiGXrn75yj2NHU3aYUnxvHXpkf3aD invoke [1]',\n",
       "   'Program log: Instruction: UpdatePricingV2',\n",
       "   'Program ZETAxsqBRek56DhiGXrn75yj2NHU3aYUnxvHXpkf3aD consumed 19069 of 199850 compute units',\n",
       "   'Program ZETAxsqBRek56DhiGXrn75yj2NHU3aYUnxvHXpkf3aD success']},\n",
       " {'index': 406,\n",
       "  'log_messages': ['Program pythWSnswVUd12oZpeFP8e9CVaEqJg25g1Vtc2biRsT invoke [1]',\n",
       "   'Program log: Instruction: UpdatePriceFeed',\n",
       "   'Program rec5EKMGg6MxZYaMdyBfgwp4d5rB9T1VQH5pJv5LtFJ invoke [2]',\n",
       "   'Program log: Instruction: PostUpdate',\n",
       "   'Program 11111111111111111111111111111111 invoke [3]',\n",
       "   'Program 11111111111111111111111111111111 success',\n",
       "   'Program rec5EKMGg6MxZYaMdyBfgwp4d5rB9T1VQH5pJv5LtFJ consumed 26773 of 93948 compute units',\n",
       "   'Program rec5EKMGg6MxZYaMdyBfgwp4d5rB9T1VQH5pJv5LtFJ success',\n",
       "   'Program pythWSnswVUd12oZpeFP8e9CVaEqJg25g1Vtc2biRsT consumed 43825 of 110000 compute units',\n",
       "   'Program pythWSnswVUd12oZpeFP8e9CVaEqJg25g1Vtc2biRsT success',\n",
       "   'Program pythWSnswVUd12oZpeFP8e9CVaEqJg25g1Vtc2biRsT invoke [1]',\n",
       "   'Program log: Instruction: UpdatePriceFeed',\n",
       "   'Program rec5EKMGg6MxZYaMdyBfgwp4d5rB9T1VQH5pJv5LtFJ invoke [2]',\n",
       "   'Program log: Instruction: PostUpdate',\n",
       "   'Program 11111111111111111111111111111111 invoke [3]',\n",
       "   'Program 11111111111111111111111111111111 success',\n",
       "   'Program rec5EKMGg6MxZYaMdyBfgwp4d5rB9T1VQH5pJv5LtFJ consumed 26767 of 50123 compute units',\n",
       "   'Program rec5EKMGg6MxZYaMdyBfgwp4d5rB9T1VQH5pJv5LtFJ success',\n",
       "   'Program pythWSnswVUd12oZpeFP8e9CVaEqJg25g1Vtc2biRsT consumed 43819 of 66175 compute units',\n",
       "   'Program pythWSnswVUd12oZpeFP8e9CVaEqJg25g1Vtc2biRsT success',\n",
       "   'Program ComputeBudget111111111111111111111111111111 invoke [1]',\n",
       "   'Program ComputeBudget111111111111111111111111111111 success']},\n",
       " {'index': 954,\n",
       "  'log_messages': ['Program pythWSnswVUd12oZpeFP8e9CVaEqJg25g1Vtc2biRsT invoke [1]',\n",
       "   'Program log: Instruction: UpdatePriceFeed',\n",
       "   'Program pythWSnswVUd12oZpeFP8e9CVaEqJg25g1Vtc2biRsT consumed 10545 of 85000 compute units',\n",
       "   'Program pythWSnswVUd12oZpeFP8e9CVaEqJg25g1Vtc2biRsT success',\n",
       "   'Program HDwcJBJXjL9FpJ7UBsYBtaDjsBUhuLCUYoz3zr8SWWaQ invoke [1]',\n",
       "   'Program log: Instruction: CloseEncodedVaa',\n",
       "   'Program HDwcJBJXjL9FpJ7UBsYBtaDjsBUhuLCUYoz3zr8SWWaQ consumed 2559 of 74455 compute units',\n",
       "   'Program HDwcJBJXjL9FpJ7UBsYBtaDjsBUhuLCUYoz3zr8SWWaQ success',\n",
       "   'Program ComputeBudget111111111111111111111111111111 invoke [1]',\n",
       "   'Program ComputeBudget111111111111111111111111111111 success']},\n",
       " {'index': 808,\n",
       "  'log_messages': ['Program pythWSnswVUd12oZpeFP8e9CVaEqJg25g1Vtc2biRsT invoke [1]',\n",
       "   'Program log: Instruction: UpdatePriceFeed',\n",
       "   'Program pythWSnswVUd12oZpeFP8e9CVaEqJg25g1Vtc2biRsT consumed 13547 of 110000 compute units',\n",
       "   'Program pythWSnswVUd12oZpeFP8e9CVaEqJg25g1Vtc2biRsT success',\n",
       "   'Program pythWSnswVUd12oZpeFP8e9CVaEqJg25g1Vtc2biRsT invoke [1]',\n",
       "   'Program log: Instruction: UpdatePriceFeed',\n",
       "   'Program pythWSnswVUd12oZpeFP8e9CVaEqJg25g1Vtc2biRsT consumed 13547 of 96453 compute units',\n",
       "   'Program pythWSnswVUd12oZpeFP8e9CVaEqJg25g1Vtc2biRsT success',\n",
       "   'Program ComputeBudget111111111111111111111111111111 invoke [1]',\n",
       "   'Program ComputeBudget111111111111111111111111111111 success']},\n",
       " {'index': 489,\n",
       "  'log_messages': ['Program ComputeBudget111111111111111111111111111111 invoke [1]',\n",
       "   'Program ComputeBudget111111111111111111111111111111 success',\n",
       "   'Program ZETAxsqBRek56DhiGXrn75yj2NHU3aYUnxvHXpkf3aD invoke [1]',\n",
       "   'Program log: Instruction: UpdatePricingV2',\n",
       "   'Program ZETAxsqBRek56DhiGXrn75yj2NHU3aYUnxvHXpkf3aD consumed 19931 of 199850 compute units',\n",
       "   'Program ZETAxsqBRek56DhiGXrn75yj2NHU3aYUnxvHXpkf3aD success']},\n",
       " {'index': 191,\n",
       "  'log_messages': ['Program ComputeBudget111111111111111111111111111111 invoke [1]',\n",
       "   'Program ComputeBudget111111111111111111111111111111 success',\n",
       "   'Program ZETAxsqBRek56DhiGXrn75yj2NHU3aYUnxvHXpkf3aD invoke [1]',\n",
       "   'Program log: Instruction: UpdatePricingV2',\n",
       "   'Program ZETAxsqBRek56DhiGXrn75yj2NHU3aYUnxvHXpkf3aD consumed 18892 of 199850 compute units',\n",
       "   'Program ZETAxsqBRek56DhiGXrn75yj2NHU3aYUnxvHXpkf3aD success']},\n",
       " {'index': 189,\n",
       "  'log_messages': ['Program ComputeBudget111111111111111111111111111111 invoke [1]',\n",
       "   'Program ComputeBudget111111111111111111111111111111 success',\n",
       "   'Program ZETAxsqBRek56DhiGXrn75yj2NHU3aYUnxvHXpkf3aD invoke [1]',\n",
       "   'Program log: Instruction: UpdatePricingV2',\n",
       "   'Program ZETAxsqBRek56DhiGXrn75yj2NHU3aYUnxvHXpkf3aD consumed 24944 of 199850 compute units',\n",
       "   'Program ZETAxsqBRek56DhiGXrn75yj2NHU3aYUnxvHXpkf3aD success']},\n",
       " {'index': 188,\n",
       "  'log_messages': ['Program ComputeBudget111111111111111111111111111111 invoke [1]',\n",
       "   'Program ComputeBudget111111111111111111111111111111 success',\n",
       "   'Program ZETAxsqBRek56DhiGXrn75yj2NHU3aYUnxvHXpkf3aD invoke [1]',\n",
       "   'Program log: Instruction: UpdatePricingV2',\n",
       "   'Program ZETAxsqBRek56DhiGXrn75yj2NHU3aYUnxvHXpkf3aD consumed 19837 of 199850 compute units',\n",
       "   'Program ZETAxsqBRek56DhiGXrn75yj2NHU3aYUnxvHXpkf3aD success']},\n",
       " {'index': 807,\n",
       "  'log_messages': ['Program HDwcJBJXjL9FpJ7UBsYBtaDjsBUhuLCUYoz3zr8SWWaQ invoke [1]',\n",
       "   'Program log: Instruction: WriteEncodedVaa',\n",
       "   'Program HDwcJBJXjL9FpJ7UBsYBtaDjsBUhuLCUYoz3zr8SWWaQ consumed 2693 of 408000 compute units',\n",
       "   'Program HDwcJBJXjL9FpJ7UBsYBtaDjsBUhuLCUYoz3zr8SWWaQ success',\n",
       "   'Program HDwcJBJXjL9FpJ7UBsYBtaDjsBUhuLCUYoz3zr8SWWaQ invoke [1]',\n",
       "   'Program log: Instruction: VerifyEncodedVaaV1',\n",
       "   'Program HDwcJBJXjL9FpJ7UBsYBtaDjsBUhuLCUYoz3zr8SWWaQ consumed 345398 of 405307 compute units',\n",
       "   'Program HDwcJBJXjL9FpJ7UBsYBtaDjsBUhuLCUYoz3zr8SWWaQ success',\n",
       "   'Program pythWSnswVUd12oZpeFP8e9CVaEqJg25g1Vtc2biRsT invoke [1]',\n",
       "   'Program log: Instruction: UpdatePriceFeed',\n",
       "   'Program pythWSnswVUd12oZpeFP8e9CVaEqJg25g1Vtc2biRsT consumed 10545 of 59909 compute units',\n",
       "   'Program pythWSnswVUd12oZpeFP8e9CVaEqJg25g1Vtc2biRsT success',\n",
       "   'Program ComputeBudget111111111111111111111111111111 invoke [1]',\n",
       "   'Program ComputeBudget111111111111111111111111111111 success']}]"
      ]
     },
     "execution_count": 13,
     "metadata": {},
     "output_type": "execute_result"
    }
   ],
   "source": [
    "success_df.select('index', 'log_messages').to_dicts()"
   ]
  },
  {
   "cell_type": "code",
   "execution_count": 14,
   "metadata": {},
   "outputs": [],
   "source": [
    "# Filter the DataFrame where any log_message contains 'vaa'.\n",
    "filtered_df = success_df.with_columns(\n",
    "    default_match=pl.col(\"log_messages\").list.eval(\n",
    "        pl.element().str.contains(\"Vaa\", literal=True, strict=True))\n",
    ")"
   ]
  },
  {
   "cell_type": "code",
   "execution_count": 15,
   "metadata": {},
   "outputs": [],
   "source": [
    "explode_filter = filtered_df.select('index', 'status', 'log_messages', 'default_match').explode(\n",
    "    'log_messages', 'default_match').filter(pl.col('default_match') == True)"
   ]
  },
  {
   "cell_type": "code",
   "execution_count": 16,
   "metadata": {},
   "outputs": [
    {
     "data": {
      "text/html": [
       "<div><style>\n",
       ".dataframe > thead > tr,\n",
       ".dataframe > tbody > tr {\n",
       "  text-align: right;\n",
       "  white-space: pre-wrap;\n",
       "}\n",
       "</style>\n",
       "<small>shape: (14, 4)</small><table border=\"1\" class=\"dataframe\"><thead><tr><th>index</th><th>log_messages</th><th>default_match</th><th>count</th></tr><tr><td>i64</td><td>str</td><td>bool</td><td>u32</td></tr></thead><tbody><tr><td>954</td><td>&quot;Program log: Instruction: CloseEncodedVaa&quot;</td><td>true</td><td>1</td></tr><tr><td>810</td><td>&quot;Program log: Instruction: CloseEncodedVaa&quot;</td><td>true</td><td>1</td></tr><tr><td>951</td><td>&quot;Program log: Instruction: WriteEncodedVaa&quot;</td><td>true</td><td>1</td></tr><tr><td>926</td><td>&quot;Program log: Instruction: VerifyEncodedVaaV1&quot;</td><td>true</td><td>1</td></tr><tr><td>407</td><td>&quot;Program log: Instruction: CloseEncodedVaa&quot;</td><td>true</td><td>1</td></tr><tr><td>&hellip;</td><td>&hellip;</td><td>&hellip;</td><td>&hellip;</td></tr><tr><td>264</td><td>&quot;Program log: Instruction: WriteEncodedVaa&quot;</td><td>true</td><td>1</td></tr><tr><td>807</td><td>&quot;Program log: Instruction: VerifyEncodedVaaV1&quot;</td><td>true</td><td>1</td></tr><tr><td>951</td><td>&quot;Program log: Instruction: VerifyEncodedVaaV1&quot;</td><td>true</td><td>1</td></tr><tr><td>404</td><td>&quot;Program log: Instruction: WriteEncodedVaa&quot;</td><td>true</td><td>1</td></tr><tr><td>264</td><td>&quot;Program log: Instruction: VerifyEncodedVaaV1&quot;</td><td>true</td><td>1</td></tr></tbody></table></div>"
      ],
      "text/plain": [
       "shape: (14, 4)\n",
       "┌───────┬──────────────────────────────────────────────┬───────────────┬───────┐\n",
       "│ index ┆ log_messages                                 ┆ default_match ┆ count │\n",
       "│ ---   ┆ ---                                          ┆ ---           ┆ ---   │\n",
       "│ i64   ┆ str                                          ┆ bool          ┆ u32   │\n",
       "╞═══════╪══════════════════════════════════════════════╪═══════════════╪═══════╡\n",
       "│ 954   ┆ Program log: Instruction: CloseEncodedVaa    ┆ true          ┆ 1     │\n",
       "│ 810   ┆ Program log: Instruction: CloseEncodedVaa    ┆ true          ┆ 1     │\n",
       "│ 951   ┆ Program log: Instruction: WriteEncodedVaa    ┆ true          ┆ 1     │\n",
       "│ 926   ┆ Program log: Instruction: VerifyEncodedVaaV1 ┆ true          ┆ 1     │\n",
       "│ 407   ┆ Program log: Instruction: CloseEncodedVaa    ┆ true          ┆ 1     │\n",
       "│ …     ┆ …                                            ┆ …             ┆ …     │\n",
       "│ 264   ┆ Program log: Instruction: WriteEncodedVaa    ┆ true          ┆ 1     │\n",
       "│ 807   ┆ Program log: Instruction: VerifyEncodedVaaV1 ┆ true          ┆ 1     │\n",
       "│ 951   ┆ Program log: Instruction: VerifyEncodedVaaV1 ┆ true          ┆ 1     │\n",
       "│ 404   ┆ Program log: Instruction: WriteEncodedVaa    ┆ true          ┆ 1     │\n",
       "│ 264   ┆ Program log: Instruction: VerifyEncodedVaaV1 ┆ true          ┆ 1     │\n",
       "└───────┴──────────────────────────────────────────────┴───────────────┴───────┘"
      ]
     },
     "execution_count": 16,
     "metadata": {},
     "output_type": "execute_result"
    }
   ],
   "source": [
    "explode_filter.group_by('index', 'log_messages',\n",
    "                        'default_match').agg(pl.len().alias('count'))"
   ]
  },
  {
   "cell_type": "markdown",
   "metadata": {},
   "source": [
    "### What do failed messages look like?"
   ]
  },
  {
   "cell_type": "code",
   "execution_count": 28,
   "metadata": {},
   "outputs": [
    {
     "data": {
      "text/html": [
       "<div><style>\n",
       ".dataframe > thead > tr,\n",
       ".dataframe > tbody > tr {\n",
       "  text-align: right;\n",
       "  white-space: pre-wrap;\n",
       "}\n",
       "</style>\n",
       "<small>shape: (2, 3)</small><table border=\"1\" class=\"dataframe\"><thead><tr><th>block_slot</th><th>status</th><th>count</th></tr><tr><td>i64</td><td>str</td><td>u32</td></tr></thead><tbody><tr><td>282899126</td><td>&quot;0&quot;</td><td>127</td></tr><tr><td>282899126</td><td>&quot;1&quot;</td><td>15</td></tr></tbody></table></div>"
      ],
      "text/plain": [
       "shape: (2, 3)\n",
       "┌────────────┬────────┬───────┐\n",
       "│ block_slot ┆ status ┆ count │\n",
       "│ ---        ┆ ---    ┆ ---   │\n",
       "│ i64        ┆ str    ┆ u32   │\n",
       "╞════════════╪════════╪═══════╡\n",
       "│ 282899126  ┆ 0      ┆ 127   │\n",
       "│ 282899126  ┆ 1      ┆ 15    │\n",
       "└────────────┴────────┴───────┘"
      ]
     },
     "execution_count": 28,
     "metadata": {},
     "output_type": "execute_result"
    }
   ],
   "source": [
    "high_fail_block = df.filter(pl.col('block_slot') == 282899126).group_by(\n",
    "    'block_slot', 'status').agg(pl.len().alias('count')).sort(by='count', descending=True)\n",
    "high_fail_block"
   ]
  },
  {
   "cell_type": "code",
   "execution_count": 29,
   "metadata": {},
   "outputs": [],
   "source": [
    "fail_df = df.filter(pl.col('block_slot') == 282899126)"
   ]
  },
  {
   "cell_type": "code",
   "execution_count": 30,
   "metadata": {},
   "outputs": [
    {
     "data": {
      "text/html": [
       "<div><style>\n",
       ".dataframe > thead > tr,\n",
       ".dataframe > tbody > tr {\n",
       "  text-align: right;\n",
       "  white-space: pre-wrap;\n",
       "}\n",
       "</style>\n",
       "<small>shape: (2, 2)</small><table border=\"1\" class=\"dataframe\"><thead><tr><th>log_messages</th><th>count</th></tr><tr><td>list[str]</td><td>u32</td></tr></thead><tbody><tr><td>[&quot;Program ZETAxsqBRek56DhiGXrn75yj2NHU3aYUnxvHXpkf3aD invoke [1]&quot;, &quot;Program log: Instruction: UpdatePricingV3&quot;, … &quot;Program ZETAxsqBRek56DhiGXrn75yj2NHU3aYUnxvHXpkf3aD failed: custom program error: 0x1819&quot;]</td><td>70</td></tr><tr><td>[&quot;Program ComputeBudget111111111111111111111111111111 invoke [1]&quot;, &quot;Program ComputeBudget111111111111111111111111111111 success&quot;, … &quot;Program ZETAxsqBRek56DhiGXrn75yj2NHU3aYUnxvHXpkf3aD failed: custom program error: 0x1819&quot;]</td><td>57</td></tr></tbody></table></div>"
      ],
      "text/plain": [
       "shape: (2, 2)\n",
       "┌───────────────────────────────────────────────────────────────────────────────────────┬───────┐\n",
       "│ log_messages                                                                          ┆ count │\n",
       "│ ---                                                                                   ┆ ---   │\n",
       "│ list[str]                                                                             ┆ u32   │\n",
       "╞═══════════════════════════════════════════════════════════════════════════════════════╪═══════╡\n",
       "│ [\"Program ZETAxsqBRek56DhiGXrn75yj2NHU3aYUnxvHXpkf3aD invoke [1]\", \"Program log:      ┆ 70    │\n",
       "│ Instruction: UpdatePricingV3\", … \"Program ZETAxsqBRek56DhiGXrn75yj2NHU3aYUnxvHXpkf3aD ┆       │\n",
       "│ failed: custom program error: 0x1…                                                    ┆       │\n",
       "│ [\"Program ComputeBudget111111111111111111111111111111 invoke [1]\", \"Program           ┆ 57    │\n",
       "│ ComputeBudget111111111111111111111111111111 success\", … \"Program                      ┆       │\n",
       "│ ZETAxsqBRek56DhiGXrn75yj2NHU3aYUnxvHXpkf3aD failed: custom …                          ┆       │\n",
       "└───────────────────────────────────────────────────────────────────────────────────────┴───────┘"
      ]
     },
     "execution_count": 30,
     "metadata": {},
     "output_type": "execute_result"
    }
   ],
   "source": [
    "fail_df.filter(pl.col('status') == \"0\").group_by('log_messages').agg(\n",
    "    pl.len().alias('count')).sort(by='count', descending=True)"
   ]
  },
  {
   "cell_type": "code",
   "execution_count": 31,
   "metadata": {},
   "outputs": [
    {
     "name": "stdout",
     "output_type": "stream",
     "text": [
      "{'log_messages': ['Program ZETAxsqBRek56DhiGXrn75yj2NHU3aYUnxvHXpkf3aD invoke [1]', 'Program log: Instruction: UpdatePricingV3', 'Program log: AnchorError thrown in programs/zeta/src/lib.rs:1206. Error Code: InvalidOracleUpdate. Error Number: 6169. Error Message: Invalid oracle update.', 'Program ZETAxsqBRek56DhiGXrn75yj2NHU3aYUnxvHXpkf3aD consumed 8687 of 200000 compute units', 'Program ZETAxsqBRek56DhiGXrn75yj2NHU3aYUnxvHXpkf3aD failed: custom program error: 0x1819'], 'count': 70}\n",
      "{'log_messages': ['Program ComputeBudget111111111111111111111111111111 invoke [1]', 'Program ComputeBudget111111111111111111111111111111 success', 'Program ZETAxsqBRek56DhiGXrn75yj2NHU3aYUnxvHXpkf3aD invoke [1]', 'Program log: Instruction: UpdatePricingV3', 'Program log: AnchorError thrown in programs/zeta/src/lib.rs:1206. Error Code: InvalidOracleUpdate. Error Number: 6169. Error Message: Invalid oracle update.', 'Program ZETAxsqBRek56DhiGXrn75yj2NHU3aYUnxvHXpkf3aD consumed 8687 of 199850 compute units', 'Program ZETAxsqBRek56DhiGXrn75yj2NHU3aYUnxvHXpkf3aD failed: custom program error: 0x1819'], 'count': 57}\n"
     ]
    }
   ],
   "source": [
    "for i in range(len(fail_df.filter(pl.col('status') == \"0\").group_by('log_messages').agg(pl.len().alias('count')).sort(by='count', descending=True).to_dicts())):\n",
    "    print(fail_df.filter(pl.col('status') == \"0\").group_by('log_messages').agg(\n",
    "        pl.len().alias('count')).sort(by='count', descending=True).to_dicts()[i])"
   ]
  },
  {
   "cell_type": "code",
   "execution_count": 32,
   "metadata": {},
   "outputs": [],
   "source": [
    "# Filter the DataFrame where any log_message contains 'vaa'.\n",
    "filtered_df = fail_df.with_columns(\n",
    "    default_match=pl.col(\"log_messages\").list.eval(\n",
    "        pl.element().str.contains(\"Error\", literal=True, strict=True))\n",
    ")"
   ]
  },
  {
   "cell_type": "code",
   "execution_count": 33,
   "metadata": {},
   "outputs": [],
   "source": [
    "explode_filter = filtered_df.select('index', 'status', 'log_messages', 'default_match').explode(\n",
    "    'log_messages', 'default_match').filter(pl.col('default_match') == True)"
   ]
  },
  {
   "cell_type": "code",
   "execution_count": 23,
   "metadata": {},
   "outputs": [
    {
     "data": {
      "text/html": [
       "<div><style>\n",
       ".dataframe > thead > tr,\n",
       ".dataframe > tbody > tr {\n",
       "  text-align: right;\n",
       "  white-space: pre-wrap;\n",
       "}\n",
       "</style>\n",
       "<small>shape: (0, 3)</small><table border=\"1\" class=\"dataframe\"><thead><tr><th>log_messages</th><th>default_match</th><th>count</th></tr><tr><td>str</td><td>bool</td><td>u32</td></tr></thead><tbody></tbody></table></div>"
      ],
      "text/plain": [
       "shape: (0, 3)\n",
       "┌──────────────┬───────────────┬───────┐\n",
       "│ log_messages ┆ default_match ┆ count │\n",
       "│ ---          ┆ ---           ┆ ---   │\n",
       "│ str          ┆ bool          ┆ u32   │\n",
       "╞══════════════╪═══════════════╪═══════╡\n",
       "└──────────────┴───────────────┴───────┘"
      ]
     },
     "execution_count": 23,
     "metadata": {},
     "output_type": "execute_result"
    }
   ],
   "source": [
    "# we just get a generic invalid oracle update value.\n",
    "explode_filter.group_by('log_messages', 'default_match').agg(\n",
    "    pl.len().alias('count'))"
   ]
  },
  {
   "cell_type": "markdown",
   "metadata": {},
   "source": [
    "### Successful txs"
   ]
  },
  {
   "cell_type": "code",
   "execution_count": 24,
   "metadata": {},
   "outputs": [
    {
     "data": {
      "text/html": [
       "<div><style>\n",
       ".dataframe > thead > tr,\n",
       ".dataframe > tbody > tr {\n",
       "  text-align: right;\n",
       "  white-space: pre-wrap;\n",
       "}\n",
       "</style>\n",
       "<small>shape: (2, 2)</small><table border=\"1\" class=\"dataframe\"><thead><tr><th>log_messages</th><th>count</th></tr><tr><td>list[str]</td><td>u32</td></tr></thead><tbody><tr><td>[&quot;Program 11111111111111111111111111111111 invoke [1]&quot;, &quot;Program 11111111111111111111111111111111 success&quot;, … &quot;Program ComputeBudget111111111111111111111111111111 success&quot;]</td><td>2</td></tr><tr><td>[&quot;Program 11111111111111111111111111111111 invoke [1]&quot;, &quot;Program 11111111111111111111111111111111 success&quot;, … &quot;Program HDwcJBJXjL9FpJ7UBsYBtaDjsBUhuLCUYoz3zr8SWWaQ success&quot;]</td><td>2</td></tr></tbody></table></div>"
      ],
      "text/plain": [
       "shape: (2, 2)\n",
       "┌──────────────────────────────────────────────────────────────────┬───────┐\n",
       "│ log_messages                                                     ┆ count │\n",
       "│ ---                                                              ┆ ---   │\n",
       "│ list[str]                                                        ┆ u32   │\n",
       "╞══════════════════════════════════════════════════════════════════╪═══════╡\n",
       "│ [\"Program 11111111111111111111111111111111 invoke [1]\", \"Program ┆ 2     │\n",
       "│ 11111111111111111111111111111111 success\", … \"Program            ┆       │\n",
       "│ ComputeBudget111111111111111111111111111111 success\"]            ┆       │\n",
       "│ [\"Program 11111111111111111111111111111111 invoke [1]\", \"Program ┆ 2     │\n",
       "│ 11111111111111111111111111111111 success\", … \"Program            ┆       │\n",
       "│ HDwcJBJXjL9FpJ7UBsYBtaDjsBUhuLCUYoz3zr8SWWaQ success\"]           ┆       │\n",
       "└──────────────────────────────────────────────────────────────────┴───────┘"
      ]
     },
     "execution_count": 24,
     "metadata": {},
     "output_type": "execute_result"
    }
   ],
   "source": [
    "# successful log messages\n",
    "fail_df.filter(pl.col('status') == \"1\").group_by('log_messages').agg(\n",
    "    pl.len().alias('count')).sort(by='count', descending=True)"
   ]
  },
  {
   "cell_type": "code",
   "execution_count": 25,
   "metadata": {},
   "outputs": [
    {
     "data": {
      "text/html": [
       "<div><style>\n",
       ".dataframe > thead > tr,\n",
       ".dataframe > tbody > tr {\n",
       "  text-align: right;\n",
       "  white-space: pre-wrap;\n",
       "}\n",
       "</style>\n",
       "<small>shape: (2, 3)</small><table border=\"1\" class=\"dataframe\"><thead><tr><th>index</th><th>log_messages</th><th>count</th></tr><tr><td>i64</td><td>list[str]</td><td>u32</td></tr></thead><tbody><tr><td>1778</td><td>[&quot;Program 11111111111111111111111111111111 invoke [1]&quot;, &quot;Program 11111111111111111111111111111111 success&quot;, … &quot;Program ComputeBudget111111111111111111111111111111 success&quot;]</td><td>2</td></tr><tr><td>1779</td><td>[&quot;Program 11111111111111111111111111111111 invoke [1]&quot;, &quot;Program 11111111111111111111111111111111 success&quot;, … &quot;Program HDwcJBJXjL9FpJ7UBsYBtaDjsBUhuLCUYoz3zr8SWWaQ success&quot;]</td><td>2</td></tr></tbody></table></div>"
      ],
      "text/plain": [
       "shape: (2, 3)\n",
       "┌───────┬──────────────────────────────────────────────────────────────────┬───────┐\n",
       "│ index ┆ log_messages                                                     ┆ count │\n",
       "│ ---   ┆ ---                                                              ┆ ---   │\n",
       "│ i64   ┆ list[str]                                                        ┆ u32   │\n",
       "╞═══════╪══════════════════════════════════════════════════════════════════╪═══════╡\n",
       "│ 1778  ┆ [\"Program 11111111111111111111111111111111 invoke [1]\", \"Program ┆ 2     │\n",
       "│       ┆ 11111111111111111111111111111111 success\", … \"Program            ┆       │\n",
       "│       ┆ ComputeBudget111111111111111111111111111111 success\"]            ┆       │\n",
       "│ 1779  ┆ [\"Program 11111111111111111111111111111111 invoke [1]\", \"Program ┆ 2     │\n",
       "│       ┆ 11111111111111111111111111111111 success\", … \"Program            ┆       │\n",
       "│       ┆ HDwcJBJXjL9FpJ7UBsYBtaDjsBUhuLCUYoz3zr8SWWaQ success\"]           ┆       │\n",
       "└───────┴──────────────────────────────────────────────────────────────────┴───────┘"
      ]
     },
     "execution_count": 25,
     "metadata": {},
     "output_type": "execute_result"
    }
   ],
   "source": [
    "# successful log messages\n",
    "fail_df.filter(pl.col('status') == \"1\").group_by('index', 'log_messages').agg(\n",
    "    pl.len().alias('count')).sort(by='index', descending=False)"
   ]
  },
  {
   "cell_type": "code",
   "execution_count": 26,
   "metadata": {},
   "outputs": [
    {
     "name": "stdout",
     "output_type": "stream",
     "text": [
      "{'index': 1778, 'log_messages': ['Program 11111111111111111111111111111111 invoke [1]', 'Program 11111111111111111111111111111111 success', 'Program HDwcJBJXjL9FpJ7UBsYBtaDjsBUhuLCUYoz3zr8SWWaQ invoke [1]', 'Program log: Instruction: InitEncodedVaa', 'Program HDwcJBJXjL9FpJ7UBsYBtaDjsBUhuLCUYoz3zr8SWWaQ consumed 2445 of 599850 compute units', 'Program HDwcJBJXjL9FpJ7UBsYBtaDjsBUhuLCUYoz3zr8SWWaQ success', 'Program HDwcJBJXjL9FpJ7UBsYBtaDjsBUhuLCUYoz3zr8SWWaQ invoke [1]', 'Program log: Instruction: WriteEncodedVaa', 'Program HDwcJBJXjL9FpJ7UBsYBtaDjsBUhuLCUYoz3zr8SWWaQ consumed 2692 of 597405 compute units', 'Program HDwcJBJXjL9FpJ7UBsYBtaDjsBUhuLCUYoz3zr8SWWaQ success', 'Program ComputeBudget111111111111111111111111111111 invoke [1]', 'Program ComputeBudget111111111111111111111111111111 success'], 'count': 2}\n",
      "{'index': 1779, 'log_messages': ['Program 11111111111111111111111111111111 invoke [1]', 'Program 11111111111111111111111111111111 success', 'Program HDwcJBJXjL9FpJ7UBsYBtaDjsBUhuLCUYoz3zr8SWWaQ invoke [1]', 'Program log: Instruction: InitEncodedVaa', 'Program HDwcJBJXjL9FpJ7UBsYBtaDjsBUhuLCUYoz3zr8SWWaQ consumed 2445 of 599850 compute units', 'Program HDwcJBJXjL9FpJ7UBsYBtaDjsBUhuLCUYoz3zr8SWWaQ success', 'Program HDwcJBJXjL9FpJ7UBsYBtaDjsBUhuLCUYoz3zr8SWWaQ invoke [1]', 'Program log: Instruction: WriteEncodedVaa', 'Program HDwcJBJXjL9FpJ7UBsYBtaDjsBUhuLCUYoz3zr8SWWaQ consumed 2692 of 597405 compute units', 'Program HDwcJBJXjL9FpJ7UBsYBtaDjsBUhuLCUYoz3zr8SWWaQ success'], 'count': 2}\n"
     ]
    }
   ],
   "source": [
    "for i in range(len(fail_df.filter(pl.col('status') == \"1\").group_by('index', 'log_messages').agg(\n",
    "    pl.len().alias('count')).sort(by='index', descending=False).to_dicts())):\n",
    "    print(fail_df.filter(pl.col('status') == \"1\").group_by('index', 'log_messages').agg(\n",
    "    pl.len().alias('count')).sort(by='index', descending=False).to_dicts()[i])"
   ]
  },
  {
   "cell_type": "code",
   "execution_count": 27,
   "metadata": {},
   "outputs": [
    {
     "ename": "NameError",
     "evalue": "name 'STOP' is not defined",
     "output_type": "error",
     "traceback": [
      "\u001b[0;31m---------------------------------------------------------------------------\u001b[0m",
      "\u001b[0;31mNameError\u001b[0m                                 Traceback (most recent call last)",
      "Cell \u001b[0;32mIn[27], line 1\u001b[0m\n\u001b[0;32m----> 1\u001b[0m \u001b[43mSTOP\u001b[49m\n",
      "\u001b[0;31mNameError\u001b[0m: name 'STOP' is not defined"
     ]
    }
   ],
   "source": [
    "STOP"
   ]
  },
  {
   "cell_type": "code",
   "execution_count": null,
   "metadata": {},
   "outputs": [
    {
     "name": "stdout",
     "output_type": "stream",
     "text": [
      "{'index': 265, 'log_messages': ['Program ZETAxsqBRek56DhiGXrn75yj2NHU3aYUnxvHXpkf3aD invoke [1]', 'Program log: Instruction: UpdatePricingV3', 'Program ZETAxsqBRek56DhiGXrn75yj2NHU3aYUnxvHXpkf3aD consumed 18846 of 200000 compute units', 'Program ZETAxsqBRek56DhiGXrn75yj2NHU3aYUnxvHXpkf3aD success'], 'count': 1}\n",
      "{'index': 267, 'log_messages': ['Program ZETAxsqBRek56DhiGXrn75yj2NHU3aYUnxvHXpkf3aD invoke [1]', 'Program log: Instruction: UpdatePricingV3', 'Program ZETAxsqBRek56DhiGXrn75yj2NHU3aYUnxvHXpkf3aD consumed 18990 of 200000 compute units', 'Program ZETAxsqBRek56DhiGXrn75yj2NHU3aYUnxvHXpkf3aD success'], 'count': 1}\n",
      "{'index': 312, 'log_messages': ['Program ZETAxsqBRek56DhiGXrn75yj2NHU3aYUnxvHXpkf3aD invoke [1]', 'Program log: Instruction: UpdatePricingV3', 'Program ZETAxsqBRek56DhiGXrn75yj2NHU3aYUnxvHXpkf3aD consumed 24504 of 200000 compute units', 'Program ZETAxsqBRek56DhiGXrn75yj2NHU3aYUnxvHXpkf3aD success'], 'count': 1}\n",
      "{'index': 314, 'log_messages': ['Program ZETAxsqBRek56DhiGXrn75yj2NHU3aYUnxvHXpkf3aD invoke [1]', 'Program log: Instruction: UpdatePricingV3', 'Program ZETAxsqBRek56DhiGXrn75yj2NHU3aYUnxvHXpkf3aD consumed 19599 of 200000 compute units', 'Program ZETAxsqBRek56DhiGXrn75yj2NHU3aYUnxvHXpkf3aD success'], 'count': 1}\n",
      "{'index': 320, 'log_messages': ['Program ZETAxsqBRek56DhiGXrn75yj2NHU3aYUnxvHXpkf3aD invoke [1]', 'Program log: Instruction: UpdatePricingV3', 'Program ZETAxsqBRek56DhiGXrn75yj2NHU3aYUnxvHXpkf3aD consumed 17949 of 200000 compute units', 'Program ZETAxsqBRek56DhiGXrn75yj2NHU3aYUnxvHXpkf3aD success'], 'count': 1}\n",
      "{'index': 364, 'log_messages': ['Program ZETAxsqBRek56DhiGXrn75yj2NHU3aYUnxvHXpkf3aD invoke [1]', 'Program log: Instruction: UpdatePricingV3', 'Program ZETAxsqBRek56DhiGXrn75yj2NHU3aYUnxvHXpkf3aD consumed 21359 of 200000 compute units', 'Program ZETAxsqBRek56DhiGXrn75yj2NHU3aYUnxvHXpkf3aD success'], 'count': 1}\n",
      "{'index': 367, 'log_messages': ['Program ZETAxsqBRek56DhiGXrn75yj2NHU3aYUnxvHXpkf3aD invoke [1]', 'Program log: Instruction: UpdatePricingV3', 'Program ZETAxsqBRek56DhiGXrn75yj2NHU3aYUnxvHXpkf3aD consumed 17449 of 200000 compute units', 'Program ZETAxsqBRek56DhiGXrn75yj2NHU3aYUnxvHXpkf3aD success'], 'count': 1}\n",
      "{'index': 1135, 'log_messages': ['Program ZETAxsqBRek56DhiGXrn75yj2NHU3aYUnxvHXpkf3aD invoke [1]', 'Program log: Instruction: UpdatePricingV3', 'Program ZETAxsqBRek56DhiGXrn75yj2NHU3aYUnxvHXpkf3aD consumed 18861 of 200000 compute units', 'Program ZETAxsqBRek56DhiGXrn75yj2NHU3aYUnxvHXpkf3aD success'], 'count': 1}\n",
      "{'index': 1159, 'log_messages': ['Program ZETAxsqBRek56DhiGXrn75yj2NHU3aYUnxvHXpkf3aD invoke [1]', 'Program log: Instruction: UpdatePricingV3', 'Program ZETAxsqBRek56DhiGXrn75yj2NHU3aYUnxvHXpkf3aD consumed 18584 of 200000 compute units', 'Program ZETAxsqBRek56DhiGXrn75yj2NHU3aYUnxvHXpkf3aD success'], 'count': 1}\n",
      "{'index': 1160, 'log_messages': ['Program ZETAxsqBRek56DhiGXrn75yj2NHU3aYUnxvHXpkf3aD invoke [1]', 'Program log: Instruction: UpdatePricingV3', 'Program ZETAxsqBRek56DhiGXrn75yj2NHU3aYUnxvHXpkf3aD consumed 18832 of 200000 compute units', 'Program ZETAxsqBRek56DhiGXrn75yj2NHU3aYUnxvHXpkf3aD success'], 'count': 1}\n",
      "{'index': 1161, 'log_messages': ['Program ZETAxsqBRek56DhiGXrn75yj2NHU3aYUnxvHXpkf3aD invoke [1]', 'Program log: Instruction: UpdatePricingV3', 'Program ZETAxsqBRek56DhiGXrn75yj2NHU3aYUnxvHXpkf3aD consumed 19024 of 200000 compute units', 'Program ZETAxsqBRek56DhiGXrn75yj2NHU3aYUnxvHXpkf3aD success'], 'count': 1}\n",
      "{'index': 1178, 'log_messages': ['Program ZETAxsqBRek56DhiGXrn75yj2NHU3aYUnxvHXpkf3aD invoke [1]', 'Program log: Instruction: UpdatePricingV3', 'Program ZETAxsqBRek56DhiGXrn75yj2NHU3aYUnxvHXpkf3aD consumed 18934 of 200000 compute units', 'Program ZETAxsqBRek56DhiGXrn75yj2NHU3aYUnxvHXpkf3aD success'], 'count': 1}\n",
      "{'index': 1183, 'log_messages': ['Program ZETAxsqBRek56DhiGXrn75yj2NHU3aYUnxvHXpkf3aD invoke [1]', 'Program log: Instruction: UpdatePricingV3', 'Program ZETAxsqBRek56DhiGXrn75yj2NHU3aYUnxvHXpkf3aD consumed 18149 of 200000 compute units', 'Program ZETAxsqBRek56DhiGXrn75yj2NHU3aYUnxvHXpkf3aD success'], 'count': 1}\n",
      "{'index': 1187, 'log_messages': ['Program ZETAxsqBRek56DhiGXrn75yj2NHU3aYUnxvHXpkf3aD invoke [1]', 'Program log: Instruction: UpdatePricingV3', 'Program ZETAxsqBRek56DhiGXrn75yj2NHU3aYUnxvHXpkf3aD consumed 18614 of 200000 compute units', 'Program ZETAxsqBRek56DhiGXrn75yj2NHU3aYUnxvHXpkf3aD success'], 'count': 1}\n",
      "{'index': 1231, 'log_messages': ['Program HDwcJBJXjL9FpJ7UBsYBtaDjsBUhuLCUYoz3zr8SWWaQ invoke [1]', 'Program log: Instruction: CloseEncodedVaa', 'Program HDwcJBJXjL9FpJ7UBsYBtaDjsBUhuLCUYoz3zr8SWWaQ consumed 2559 of 200000 compute units', 'Program HDwcJBJXjL9FpJ7UBsYBtaDjsBUhuLCUYoz3zr8SWWaQ success', 'Program ComputeBudget111111111111111111111111111111 invoke [1]', 'Program ComputeBudget111111111111111111111111111111 success'], 'count': 1}\n"
     ]
    }
   ],
   "source": [
    "for i in range(len(fail_df.filter(pl.col('status') == \"1\").group_by('index', 'log_messages').agg(\n",
    "    pl.len().alias('count')).sort(by='index', descending=False).to_dicts())):\n",
    "    print(fail_df.filter(pl.col('status') == \"1\").group_by('index', 'log_messages').agg(\n",
    "    pl.len().alias('count')).sort(by='index', descending=False).to_dicts()[i])"
   ]
  },
  {
   "cell_type": "code",
   "execution_count": null,
   "metadata": {},
   "outputs": [],
   "source": []
  }
 ],
 "metadata": {
  "kernelspec": {
   "display_name": ".venv",
   "language": "python",
   "name": "python3"
  },
  "language_info": {
   "codemirror_mode": {
    "name": "ipython",
    "version": 3
   },
   "file_extension": ".py",
   "mimetype": "text/x-python",
   "name": "python",
   "nbconvert_exporter": "python",
   "pygments_lexer": "ipython3",
   "version": "3.12.2"
  }
 },
 "nbformat": 4,
 "nbformat_minor": 2
}
